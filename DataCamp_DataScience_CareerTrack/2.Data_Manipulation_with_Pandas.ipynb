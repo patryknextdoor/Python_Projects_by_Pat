{
 "cells": [
  {
   "cell_type": "markdown",
   "id": "6b430daf-beac-4a6a-ab06-06a51b630e34",
   "metadata": {
    "canvas": {
     "comments": [],
     "componentType": "CodeCell",
     "copiedOriginId": null,
     "diskcache": false,
     "headerColor": "transparent",
     "id": "5fbae450-a76c-44e0-b4d5-0ec51e8c9546",
     "isComponent": false,
     "name": "",
     "parents": []
    }
   },
   "source": [
    "# *Data Manipulation with pandas*"
   ]
  },
  {
   "cell_type": "code",
   "execution_count": 6,
   "id": "154ac942-4a57-4024-bc20-1ae53c60c578",
   "metadata": {
    "canvas": {
     "comments": [],
     "componentType": "CodeCell",
     "copiedOriginId": null,
     "diskcache": false,
     "headerColor": "transparent",
     "id": "905638f7-9759-48aa-94af-45dea900ac78",
     "isComponent": false,
     "name": "",
     "parents": []
    }
   },
   "outputs": [
    {
     "name": "stdout",
     "output_type": "stream",
     "text": [
      "Intel MKL WARNING: Support of Intel(R) Streaming SIMD Extensions 4.2 (Intel(R) SSE4.2) enabled only processors has been deprecated. Intel oneAPI Math Kernel Library 2025.0 will require Intel(R) Advanced Vector Extensions (Intel(R) AVX) instructions.\n",
      "Intel MKL WARNING: Support of Intel(R) Streaming SIMD Extensions 4.2 (Intel(R) SSE4.2) enabled only processors has been deprecated. Intel oneAPI Math Kernel Library 2025.0 will require Intel(R) Advanced Vector Extensions (Intel(R) AVX) instructions.\n"
     ]
    }
   ],
   "source": [
    "import pandas as pd\n",
    "import numpy as np"
   ]
  },
  {
   "cell_type": "code",
   "execution_count": 12,
   "id": "54f6689d-0616-4909-8641-660889b5582f",
   "metadata": {
    "canvas": {
     "comments": [],
     "componentType": "CodeCell",
     "copiedOriginId": null,
     "diskcache": false,
     "headerColor": "transparent",
     "id": "5b1298f4-cf58-4fbc-99e3-e49c60350b66",
     "isComponent": false,
     "name": "",
     "parents": []
    }
   },
   "outputs": [],
   "source": [
    "#the dataset used for this notebook differs from DataCamp's yet the order and structure of exercises is the same"
   ]
  },
  {
   "cell_type": "code",
   "execution_count": 13,
   "id": "f6553d46-2e11-4f61-993d-6cc5d0ea74bf",
   "metadata": {
    "canvas": {
     "comments": [],
     "componentType": "CodeCell",
     "copiedOriginId": null,
     "diskcache": false,
     "headerColor": "transparent",
     "id": "c697cc25-046c-437c-a251-3495031b8a19",
     "isComponent": false,
     "name": "",
     "parents": []
    }
   },
   "outputs": [
    {
     "data": {
      "text/html": [
       "<div>\n",
       "<style scoped>\n",
       "    .dataframe tbody tr th:only-of-type {\n",
       "        vertical-align: middle;\n",
       "    }\n",
       "\n",
       "    .dataframe tbody tr th {\n",
       "        vertical-align: top;\n",
       "    }\n",
       "\n",
       "    .dataframe thead th {\n",
       "        text-align: right;\n",
       "    }\n",
       "</style>\n",
       "<table border=\"1\" class=\"dataframe\">\n",
       "  <thead>\n",
       "    <tr style=\"text-align: right;\">\n",
       "      <th></th>\n",
       "      <th>Date</th>\n",
       "      <th>Open</th>\n",
       "      <th>High</th>\n",
       "      <th>Low</th>\n",
       "      <th>close</th>\n",
       "      <th>Volume</th>\n",
       "    </tr>\n",
       "  </thead>\n",
       "  <tbody>\n",
       "    <tr>\n",
       "      <th>0</th>\n",
       "      <td>2024-06-02 23:00:00</td>\n",
       "      <td>157.267</td>\n",
       "      <td>157.267</td>\n",
       "      <td>157.161</td>\n",
       "      <td>157.167</td>\n",
       "      <td>151.0</td>\n",
       "    </tr>\n",
       "    <tr>\n",
       "      <th>1</th>\n",
       "      <td>2024-06-02 23:15:00</td>\n",
       "      <td>157.167</td>\n",
       "      <td>157.219</td>\n",
       "      <td>157.167</td>\n",
       "      <td>157.203</td>\n",
       "      <td>235.0</td>\n",
       "    </tr>\n",
       "    <tr>\n",
       "      <th>2</th>\n",
       "      <td>2024-06-02 23:30:00</td>\n",
       "      <td>157.203</td>\n",
       "      <td>157.208</td>\n",
       "      <td>157.144</td>\n",
       "      <td>157.154</td>\n",
       "      <td>355.0</td>\n",
       "    </tr>\n",
       "    <tr>\n",
       "      <th>3</th>\n",
       "      <td>2024-06-02 23:45:00</td>\n",
       "      <td>157.154</td>\n",
       "      <td>157.229</td>\n",
       "      <td>157.145</td>\n",
       "      <td>157.171</td>\n",
       "      <td>253.0</td>\n",
       "    </tr>\n",
       "    <tr>\n",
       "      <th>4</th>\n",
       "      <td>2024-06-03 00:00:00</td>\n",
       "      <td>157.171</td>\n",
       "      <td>157.297</td>\n",
       "      <td>157.149</td>\n",
       "      <td>157.274</td>\n",
       "      <td>838.0</td>\n",
       "    </tr>\n",
       "  </tbody>\n",
       "</table>\n",
       "</div>"
      ],
      "text/plain": [
       "                  Date     Open     High      Low    close  Volume\n",
       "0  2024-06-02 23:00:00  157.267  157.267  157.161  157.167   151.0\n",
       "1  2024-06-02 23:15:00  157.167  157.219  157.167  157.203   235.0\n",
       "2  2024-06-02 23:30:00  157.203  157.208  157.144  157.154   355.0\n",
       "3  2024-06-02 23:45:00  157.154  157.229  157.145  157.171   253.0\n",
       "4  2024-06-03 00:00:00  157.171  157.297  157.149  157.274   838.0"
      ]
     },
     "execution_count": 13,
     "metadata": {},
     "output_type": "execute_result"
    }
   ],
   "source": [
    "df = pd.read_csv(path)\n",
    "df.head()"
   ]
  },
  {
   "cell_type": "code",
   "execution_count": 15,
   "id": "6f039378-2914-48b1-ac37-1946f55cdb82",
   "metadata": {
    "canvas": {
     "comments": [],
     "componentType": "CodeCell",
     "copiedOriginId": null,
     "diskcache": false,
     "headerColor": "transparent",
     "id": "fade2733-98a9-4479-8678-65a1e84ceb50",
     "isComponent": false,
     "name": "",
     "parents": []
    }
   },
   "outputs": [
    {
     "name": "stdout",
     "output_type": "stream",
     "text": [
      "<class 'pandas.core.frame.DataFrame'>\n",
      "RangeIndex: 6866 entries, 0 to 6865\n",
      "Data columns (total 6 columns):\n",
      " #   Column  Non-Null Count  Dtype  \n",
      "---  ------  --------------  -----  \n",
      " 0   Date    6866 non-null   object \n",
      " 1   Open    6866 non-null   float64\n",
      " 2   High    6866 non-null   float64\n",
      " 3   Low     6866 non-null   float64\n",
      " 4   close   6866 non-null   float64\n",
      " 5   Volume  6866 non-null   float64\n",
      "dtypes: float64(5), object(1)\n",
      "memory usage: 322.0+ KB\n"
     ]
    }
   ],
   "source": [
    "df.info()"
   ]
  },
  {
   "cell_type": "code",
   "execution_count": 16,
   "id": "d5a180d7-6ab0-417d-ba79-5283414ad484",
   "metadata": {
    "canvas": {
     "comments": [],
     "componentType": "CodeCell",
     "copiedOriginId": null,
     "diskcache": false,
     "headerColor": "transparent",
     "id": "71f762a4-5317-4f34-8b51-08be803e5201",
     "isComponent": false,
     "name": "",
     "parents": []
    }
   },
   "outputs": [
    {
     "data": {
      "text/plain": [
       "(6866, 6)"
      ]
     },
     "execution_count": 16,
     "metadata": {},
     "output_type": "execute_result"
    }
   ],
   "source": [
    "df.shape"
   ]
  },
  {
   "cell_type": "code",
   "execution_count": 17,
   "id": "6e2b002c-6bc3-4bd3-827d-83b89ffd13cb",
   "metadata": {
    "canvas": {
     "comments": [],
     "componentType": "CodeCell",
     "copiedOriginId": null,
     "diskcache": false,
     "headerColor": "transparent",
     "id": "f2bce1d1-3baf-4f71-8f97-5dd9ba2cf85d",
     "isComponent": false,
     "name": "",
     "parents": []
    }
   },
   "outputs": [
    {
     "data": {
      "text/html": [
       "<div>\n",
       "<style scoped>\n",
       "    .dataframe tbody tr th:only-of-type {\n",
       "        vertical-align: middle;\n",
       "    }\n",
       "\n",
       "    .dataframe tbody tr th {\n",
       "        vertical-align: top;\n",
       "    }\n",
       "\n",
       "    .dataframe thead th {\n",
       "        text-align: right;\n",
       "    }\n",
       "</style>\n",
       "<table border=\"1\" class=\"dataframe\">\n",
       "  <thead>\n",
       "    <tr style=\"text-align: right;\">\n",
       "      <th></th>\n",
       "      <th>Open</th>\n",
       "      <th>High</th>\n",
       "      <th>Low</th>\n",
       "      <th>close</th>\n",
       "      <th>Volume</th>\n",
       "    </tr>\n",
       "  </thead>\n",
       "  <tbody>\n",
       "    <tr>\n",
       "      <th>count</th>\n",
       "      <td>6866.000000</td>\n",
       "      <td>6866.000000</td>\n",
       "      <td>6866.000000</td>\n",
       "      <td>6866.000000</td>\n",
       "      <td>6866.000000</td>\n",
       "    </tr>\n",
       "    <tr>\n",
       "      <th>mean</th>\n",
       "      <td>153.060327</td>\n",
       "      <td>153.128990</td>\n",
       "      <td>152.986377</td>\n",
       "      <td>153.058318</td>\n",
       "      <td>4738.459511</td>\n",
       "    </tr>\n",
       "    <tr>\n",
       "      <th>std</th>\n",
       "      <td>6.325436</td>\n",
       "      <td>6.303652</td>\n",
       "      <td>6.346789</td>\n",
       "      <td>6.326278</td>\n",
       "      <td>4293.659340</td>\n",
       "    </tr>\n",
       "    <tr>\n",
       "      <th>min</th>\n",
       "      <td>141.969000</td>\n",
       "      <td>142.147000</td>\n",
       "      <td>141.684000</td>\n",
       "      <td>141.969000</td>\n",
       "      <td>2.000000</td>\n",
       "    </tr>\n",
       "    <tr>\n",
       "      <th>25%</th>\n",
       "      <td>146.542250</td>\n",
       "      <td>146.617250</td>\n",
       "      <td>146.442500</td>\n",
       "      <td>146.542250</td>\n",
       "      <td>1964.000000</td>\n",
       "    </tr>\n",
       "    <tr>\n",
       "      <th>50%</th>\n",
       "      <td>155.586500</td>\n",
       "      <td>155.637500</td>\n",
       "      <td>155.538500</td>\n",
       "      <td>155.584500</td>\n",
       "      <td>3589.500000</td>\n",
       "    </tr>\n",
       "    <tr>\n",
       "      <th>75%</th>\n",
       "      <td>158.128750</td>\n",
       "      <td>158.164250</td>\n",
       "      <td>158.076000</td>\n",
       "      <td>158.128750</td>\n",
       "      <td>6184.250000</td>\n",
       "    </tr>\n",
       "    <tr>\n",
       "      <th>max</th>\n",
       "      <td>161.938000</td>\n",
       "      <td>161.951000</td>\n",
       "      <td>161.916000</td>\n",
       "      <td>161.938000</td>\n",
       "      <td>55752.000000</td>\n",
       "    </tr>\n",
       "  </tbody>\n",
       "</table>\n",
       "</div>"
      ],
      "text/plain": [
       "              Open         High          Low        close        Volume\n",
       "count  6866.000000  6866.000000  6866.000000  6866.000000   6866.000000\n",
       "mean    153.060327   153.128990   152.986377   153.058318   4738.459511\n",
       "std       6.325436     6.303652     6.346789     6.326278   4293.659340\n",
       "min     141.969000   142.147000   141.684000   141.969000      2.000000\n",
       "25%     146.542250   146.617250   146.442500   146.542250   1964.000000\n",
       "50%     155.586500   155.637500   155.538500   155.584500   3589.500000\n",
       "75%     158.128750   158.164250   158.076000   158.128750   6184.250000\n",
       "max     161.938000   161.951000   161.916000   161.938000  55752.000000"
      ]
     },
     "execution_count": 17,
     "metadata": {},
     "output_type": "execute_result"
    }
   ],
   "source": [
    "df.describe()"
   ]
  },
  {
   "cell_type": "code",
   "execution_count": 18,
   "id": "da072919-6299-44ff-92b6-7ed70ea2aa3c",
   "metadata": {
    "canvas": {
     "comments": [],
     "componentType": "CodeCell",
     "copiedOriginId": null,
     "diskcache": false,
     "headerColor": "transparent",
     "id": "584bf5d9-9d48-49ee-9fad-1441c4c2e991",
     "isComponent": false,
     "name": "",
     "parents": []
    }
   },
   "outputs": [
    {
     "data": {
      "text/plain": [
       "array([['2024-06-02 23:00:00', 157.267, 157.267, 157.161, 157.167, 151.0],\n",
       "       ['2024-06-02 23:15:00', 157.167, 157.219, 157.167, 157.203, 235.0],\n",
       "       ['2024-06-02 23:30:00', 157.203, 157.208, 157.14399999999998,\n",
       "        157.154, 355.0],\n",
       "       ...,\n",
       "       ['2024-09-10 12:30:00', 143.14399999999998, 143.213, 143.135,\n",
       "        143.166, 3393.0],\n",
       "       ['2024-09-10 12:45:00', 143.166, 143.17, 142.95,\n",
       "        143.03799999999998, 4982.0],\n",
       "       ['2024-09-10 13:00:00', 143.03799999999998, 143.094,\n",
       "        143.03799999999998, 143.072, 773.0]], dtype=object)"
      ]
     },
     "execution_count": 18,
     "metadata": {},
     "output_type": "execute_result"
    }
   ],
   "source": [
    "df.values"
   ]
  },
  {
   "cell_type": "code",
   "execution_count": 19,
   "id": "c8c41a46-b8e2-410d-b250-170ebd491ec2",
   "metadata": {
    "canvas": {
     "comments": [],
     "componentType": "CodeCell",
     "copiedOriginId": null,
     "diskcache": false,
     "headerColor": "transparent",
     "id": "a3a571ae-8d11-4899-8b30-77014cf54e14",
     "isComponent": false,
     "name": "",
     "parents": []
    }
   },
   "outputs": [
    {
     "data": {
      "text/plain": [
       "Index(['Date', 'Open', 'High', 'Low', 'close', 'Volume'], dtype='object')"
      ]
     },
     "execution_count": 19,
     "metadata": {},
     "output_type": "execute_result"
    }
   ],
   "source": [
    "df.columns"
   ]
  },
  {
   "cell_type": "code",
   "execution_count": 20,
   "id": "62abb417-38d2-4648-aa92-78fcdd098006",
   "metadata": {
    "canvas": {
     "comments": [],
     "componentType": "CodeCell",
     "copiedOriginId": null,
     "diskcache": false,
     "headerColor": "transparent",
     "id": "fcf7aa9e-54fc-46e4-9118-831957866912",
     "isComponent": false,
     "name": "",
     "parents": []
    }
   },
   "outputs": [
    {
     "data": {
      "text/plain": [
       "RangeIndex(start=0, stop=6866, step=1)"
      ]
     },
     "execution_count": 20,
     "metadata": {},
     "output_type": "execute_result"
    }
   ],
   "source": [
    "df.index"
   ]
  },
  {
   "cell_type": "code",
   "execution_count": 56,
   "id": "97c5e5c9-680f-46a9-aae3-317654076466",
   "metadata": {
    "canvas": {
     "comments": [],
     "componentType": "CodeCell",
     "copiedOriginId": null,
     "diskcache": false,
     "headerColor": "transparent",
     "id": "12c03045-440b-4589-9e0a-a3f7f127f8a8",
     "isComponent": false,
     "name": "",
     "parents": []
    }
   },
   "outputs": [
    {
     "data": {
      "text/plain": [
       "Date           object\n",
       "Open          float64\n",
       "High          float64\n",
       "Low           float64\n",
       "close         float64\n",
       "Volume        float64\n",
       "Order_Type     object\n",
       "dtype: object"
      ]
     },
     "execution_count": 56,
     "metadata": {},
     "output_type": "execute_result"
    }
   ],
   "source": [
    "df.dtypes"
   ]
  },
  {
   "cell_type": "markdown",
   "id": "16fa0d28-16c1-40b8-950f-c23901ffad3c",
   "metadata": {
    "canvas": {
     "comments": [],
     "componentType": "CodeCell",
     "copiedOriginId": null,
     "diskcache": false,
     "headerColor": "transparent",
     "id": "4b7306b4-23d4-4042-8e3e-cab2c68a15c5",
     "isComponent": false,
     "name": "",
     "parents": []
    }
   },
   "source": [
    "## *Sorting and subseting*"
   ]
  },
  {
   "cell_type": "code",
   "execution_count": 22,
   "id": "730c8f28-c8d0-487d-ae9b-c61f96efac66",
   "metadata": {
    "canvas": {
     "comments": [],
     "componentType": "CodeCell",
     "copiedOriginId": null,
     "diskcache": false,
     "headerColor": "transparent",
     "id": "431ae3d1-983a-46ba-b1db-9b4d82c39277",
     "isComponent": false,
     "name": "",
     "parents": []
    }
   },
   "outputs": [
    {
     "data": {
      "text/html": [
       "<div>\n",
       "<style scoped>\n",
       "    .dataframe tbody tr th:only-of-type {\n",
       "        vertical-align: middle;\n",
       "    }\n",
       "\n",
       "    .dataframe tbody tr th {\n",
       "        vertical-align: top;\n",
       "    }\n",
       "\n",
       "    .dataframe thead th {\n",
       "        text-align: right;\n",
       "    }\n",
       "</style>\n",
       "<table border=\"1\" class=\"dataframe\">\n",
       "  <thead>\n",
       "    <tr style=\"text-align: right;\">\n",
       "      <th></th>\n",
       "      <th>Date</th>\n",
       "      <th>Open</th>\n",
       "      <th>High</th>\n",
       "      <th>Low</th>\n",
       "      <th>close</th>\n",
       "      <th>Volume</th>\n",
       "    </tr>\n",
       "  </thead>\n",
       "  <tbody>\n",
       "    <tr>\n",
       "      <th>2751</th>\n",
       "      <td>2024-07-11 14:45:00</td>\n",
       "      <td>158.749</td>\n",
       "      <td>159.669</td>\n",
       "      <td>158.348</td>\n",
       "      <td>158.649</td>\n",
       "      <td>55752.0</td>\n",
       "    </tr>\n",
       "    <tr>\n",
       "      <th>6690</th>\n",
       "      <td>2024-09-06 17:00:00</td>\n",
       "      <td>142.436</td>\n",
       "      <td>142.754</td>\n",
       "      <td>141.763</td>\n",
       "      <td>142.231</td>\n",
       "      <td>46690.0</td>\n",
       "    </tr>\n",
       "    <tr>\n",
       "      <th>2752</th>\n",
       "      <td>2024-07-11 15:00:00</td>\n",
       "      <td>158.649</td>\n",
       "      <td>158.654</td>\n",
       "      <td>157.414</td>\n",
       "      <td>158.349</td>\n",
       "      <td>45745.0</td>\n",
       "    </tr>\n",
       "    <tr>\n",
       "      <th>6680</th>\n",
       "      <td>2024-09-06 14:30:00</td>\n",
       "      <td>143.227</td>\n",
       "      <td>144.023</td>\n",
       "      <td>141.976</td>\n",
       "      <td>142.412</td>\n",
       "      <td>44277.0</td>\n",
       "    </tr>\n",
       "    <tr>\n",
       "      <th>4285</th>\n",
       "      <td>2024-08-02 14:30:00</td>\n",
       "      <td>148.998</td>\n",
       "      <td>148.998</td>\n",
       "      <td>147.012</td>\n",
       "      <td>147.277</td>\n",
       "      <td>38638.0</td>\n",
       "    </tr>\n",
       "    <tr>\n",
       "      <th>...</th>\n",
       "      <td>...</td>\n",
       "      <td>...</td>\n",
       "      <td>...</td>\n",
       "      <td>...</td>\n",
       "      <td>...</td>\n",
       "      <td>...</td>\n",
       "    </tr>\n",
       "    <tr>\n",
       "      <th>1920</th>\n",
       "      <td>2024-06-30 23:00:00</td>\n",
       "      <td>160.686</td>\n",
       "      <td>160.817</td>\n",
       "      <td>160.686</td>\n",
       "      <td>160.745</td>\n",
       "      <td>4.0</td>\n",
       "    </tr>\n",
       "    <tr>\n",
       "      <th>4704</th>\n",
       "      <td>2024-08-08 23:15:00</td>\n",
       "      <td>147.181</td>\n",
       "      <td>147.223</td>\n",
       "      <td>147.181</td>\n",
       "      <td>147.223</td>\n",
       "      <td>4.0</td>\n",
       "    </tr>\n",
       "    <tr>\n",
       "      <th>6714</th>\n",
       "      <td>2024-09-08 23:15:00</td>\n",
       "      <td>142.134</td>\n",
       "      <td>142.147</td>\n",
       "      <td>142.134</td>\n",
       "      <td>142.146</td>\n",
       "      <td>4.0</td>\n",
       "    </tr>\n",
       "    <tr>\n",
       "      <th>6330</th>\n",
       "      <td>2024-09-02 23:00:00</td>\n",
       "      <td>146.853</td>\n",
       "      <td>146.881</td>\n",
       "      <td>146.853</td>\n",
       "      <td>146.881</td>\n",
       "      <td>4.0</td>\n",
       "    </tr>\n",
       "    <tr>\n",
       "      <th>4703</th>\n",
       "      <td>2024-08-08 23:00:00</td>\n",
       "      <td>147.188</td>\n",
       "      <td>147.198</td>\n",
       "      <td>147.181</td>\n",
       "      <td>147.181</td>\n",
       "      <td>2.0</td>\n",
       "    </tr>\n",
       "  </tbody>\n",
       "</table>\n",
       "<p>6866 rows × 6 columns</p>\n",
       "</div>"
      ],
      "text/plain": [
       "                     Date     Open     High      Low    close   Volume\n",
       "2751  2024-07-11 14:45:00  158.749  159.669  158.348  158.649  55752.0\n",
       "6690  2024-09-06 17:00:00  142.436  142.754  141.763  142.231  46690.0\n",
       "2752  2024-07-11 15:00:00  158.649  158.654  157.414  158.349  45745.0\n",
       "6680  2024-09-06 14:30:00  143.227  144.023  141.976  142.412  44277.0\n",
       "4285  2024-08-02 14:30:00  148.998  148.998  147.012  147.277  38638.0\n",
       "...                   ...      ...      ...      ...      ...      ...\n",
       "1920  2024-06-30 23:00:00  160.686  160.817  160.686  160.745      4.0\n",
       "4704  2024-08-08 23:15:00  147.181  147.223  147.181  147.223      4.0\n",
       "6714  2024-09-08 23:15:00  142.134  142.147  142.134  142.146      4.0\n",
       "6330  2024-09-02 23:00:00  146.853  146.881  146.853  146.881      4.0\n",
       "4703  2024-08-08 23:00:00  147.188  147.198  147.181  147.181      2.0\n",
       "\n",
       "[6866 rows x 6 columns]"
      ]
     },
     "execution_count": 22,
     "metadata": {},
     "output_type": "execute_result"
    }
   ],
   "source": [
    "#Sorting\n",
    "\n",
    "df.sort_values(\"Volume\" , ascending=False)"
   ]
  },
  {
   "cell_type": "code",
   "execution_count": 27,
   "id": "32a47c6b-71a2-482c-9223-c4d5fcc9b6b0",
   "metadata": {
    "canvas": {
     "comments": [],
     "componentType": "CodeCell",
     "copiedOriginId": null,
     "diskcache": false,
     "headerColor": "transparent",
     "id": "93a61178-5714-490e-b8a9-65159cff1564",
     "isComponent": false,
     "name": "",
     "parents": []
    }
   },
   "outputs": [
    {
     "data": {
      "text/html": [
       "<div>\n",
       "<style scoped>\n",
       "    .dataframe tbody tr th:only-of-type {\n",
       "        vertical-align: middle;\n",
       "    }\n",
       "\n",
       "    .dataframe tbody tr th {\n",
       "        vertical-align: top;\n",
       "    }\n",
       "\n",
       "    .dataframe thead th {\n",
       "        text-align: right;\n",
       "    }\n",
       "</style>\n",
       "<table border=\"1\" class=\"dataframe\">\n",
       "  <thead>\n",
       "    <tr style=\"text-align: right;\">\n",
       "      <th></th>\n",
       "      <th>Date</th>\n",
       "      <th>Open</th>\n",
       "      <th>High</th>\n",
       "      <th>Low</th>\n",
       "      <th>close</th>\n",
       "      <th>Volume</th>\n",
       "    </tr>\n",
       "  </thead>\n",
       "  <tbody>\n",
       "    <tr>\n",
       "      <th>2751</th>\n",
       "      <td>2024-07-11 14:45:00</td>\n",
       "      <td>158.749</td>\n",
       "      <td>159.669</td>\n",
       "      <td>158.348</td>\n",
       "      <td>158.649</td>\n",
       "      <td>55752.0</td>\n",
       "    </tr>\n",
       "    <tr>\n",
       "      <th>6690</th>\n",
       "      <td>2024-09-06 17:00:00</td>\n",
       "      <td>142.436</td>\n",
       "      <td>142.754</td>\n",
       "      <td>141.763</td>\n",
       "      <td>142.231</td>\n",
       "      <td>46690.0</td>\n",
       "    </tr>\n",
       "    <tr>\n",
       "      <th>2752</th>\n",
       "      <td>2024-07-11 15:00:00</td>\n",
       "      <td>158.649</td>\n",
       "      <td>158.654</td>\n",
       "      <td>157.414</td>\n",
       "      <td>158.349</td>\n",
       "      <td>45745.0</td>\n",
       "    </tr>\n",
       "    <tr>\n",
       "      <th>6680</th>\n",
       "      <td>2024-09-06 14:30:00</td>\n",
       "      <td>143.227</td>\n",
       "      <td>144.023</td>\n",
       "      <td>141.976</td>\n",
       "      <td>142.412</td>\n",
       "      <td>44277.0</td>\n",
       "    </tr>\n",
       "    <tr>\n",
       "      <th>4285</th>\n",
       "      <td>2024-08-02 14:30:00</td>\n",
       "      <td>148.998</td>\n",
       "      <td>148.998</td>\n",
       "      <td>147.012</td>\n",
       "      <td>147.277</td>\n",
       "      <td>38638.0</td>\n",
       "    </tr>\n",
       "  </tbody>\n",
       "</table>\n",
       "</div>"
      ],
      "text/plain": [
       "                     Date     Open     High      Low    close   Volume\n",
       "2751  2024-07-11 14:45:00  158.749  159.669  158.348  158.649  55752.0\n",
       "6690  2024-09-06 17:00:00  142.436  142.754  141.763  142.231  46690.0\n",
       "2752  2024-07-11 15:00:00  158.649  158.654  157.414  158.349  45745.0\n",
       "6680  2024-09-06 14:30:00  143.227  144.023  141.976  142.412  44277.0\n",
       "4285  2024-08-02 14:30:00  148.998  148.998  147.012  147.277  38638.0"
      ]
     },
     "execution_count": 27,
     "metadata": {},
     "output_type": "execute_result"
    }
   ],
   "source": [
    "df.sort_values(['Volume' , 'High'], ascending=[False, False]).head()"
   ]
  },
  {
   "cell_type": "code",
   "execution_count": 28,
   "id": "04c39e91-3f2b-432b-a771-059805fec966",
   "metadata": {
    "canvas": {
     "comments": [],
     "componentType": "CodeCell",
     "copiedOriginId": null,
     "diskcache": false,
     "headerColor": "transparent",
     "id": "a0ff120e-6e56-48b2-bcf1-2e3da696230a",
     "isComponent": false,
     "name": "",
     "parents": []
    }
   },
   "outputs": [
    {
     "data": {
      "text/plain": [
       "0       157.167\n",
       "1       157.203\n",
       "2       157.154\n",
       "3       157.171\n",
       "4       157.274\n",
       "         ...   \n",
       "6861    143.047\n",
       "6862    143.144\n",
       "6863    143.166\n",
       "6864    143.038\n",
       "6865    143.072\n",
       "Name: close, Length: 6866, dtype: float64"
      ]
     },
     "execution_count": 28,
     "metadata": {},
     "output_type": "execute_result"
    }
   ],
   "source": [
    "# Subseting columns\n",
    "\n",
    "df['close']"
   ]
  },
  {
   "cell_type": "code",
   "execution_count": 29,
   "id": "994a762a-806c-4d37-bf21-b8397dbacecf",
   "metadata": {
    "canvas": {
     "comments": [],
     "componentType": "CodeCell",
     "copiedOriginId": null,
     "diskcache": false,
     "headerColor": "transparent",
     "id": "9269bfb1-81d7-4c31-96c5-344ea6cd4e43",
     "isComponent": false,
     "name": "",
     "parents": []
    }
   },
   "outputs": [
    {
     "data": {
      "text/html": [
       "<div>\n",
       "<style scoped>\n",
       "    .dataframe tbody tr th:only-of-type {\n",
       "        vertical-align: middle;\n",
       "    }\n",
       "\n",
       "    .dataframe tbody tr th {\n",
       "        vertical-align: top;\n",
       "    }\n",
       "\n",
       "    .dataframe thead th {\n",
       "        text-align: right;\n",
       "    }\n",
       "</style>\n",
       "<table border=\"1\" class=\"dataframe\">\n",
       "  <thead>\n",
       "    <tr style=\"text-align: right;\">\n",
       "      <th></th>\n",
       "      <th>Date</th>\n",
       "      <th>close</th>\n",
       "    </tr>\n",
       "  </thead>\n",
       "  <tbody>\n",
       "    <tr>\n",
       "      <th>0</th>\n",
       "      <td>2024-06-02 23:00:00</td>\n",
       "      <td>157.167</td>\n",
       "    </tr>\n",
       "    <tr>\n",
       "      <th>1</th>\n",
       "      <td>2024-06-02 23:15:00</td>\n",
       "      <td>157.203</td>\n",
       "    </tr>\n",
       "    <tr>\n",
       "      <th>2</th>\n",
       "      <td>2024-06-02 23:30:00</td>\n",
       "      <td>157.154</td>\n",
       "    </tr>\n",
       "    <tr>\n",
       "      <th>3</th>\n",
       "      <td>2024-06-02 23:45:00</td>\n",
       "      <td>157.171</td>\n",
       "    </tr>\n",
       "    <tr>\n",
       "      <th>4</th>\n",
       "      <td>2024-06-03 00:00:00</td>\n",
       "      <td>157.274</td>\n",
       "    </tr>\n",
       "    <tr>\n",
       "      <th>...</th>\n",
       "      <td>...</td>\n",
       "      <td>...</td>\n",
       "    </tr>\n",
       "    <tr>\n",
       "      <th>6861</th>\n",
       "      <td>2024-09-10 12:00:00</td>\n",
       "      <td>143.047</td>\n",
       "    </tr>\n",
       "    <tr>\n",
       "      <th>6862</th>\n",
       "      <td>2024-09-10 12:15:00</td>\n",
       "      <td>143.144</td>\n",
       "    </tr>\n",
       "    <tr>\n",
       "      <th>6863</th>\n",
       "      <td>2024-09-10 12:30:00</td>\n",
       "      <td>143.166</td>\n",
       "    </tr>\n",
       "    <tr>\n",
       "      <th>6864</th>\n",
       "      <td>2024-09-10 12:45:00</td>\n",
       "      <td>143.038</td>\n",
       "    </tr>\n",
       "    <tr>\n",
       "      <th>6865</th>\n",
       "      <td>2024-09-10 13:00:00</td>\n",
       "      <td>143.072</td>\n",
       "    </tr>\n",
       "  </tbody>\n",
       "</table>\n",
       "<p>6866 rows × 2 columns</p>\n",
       "</div>"
      ],
      "text/plain": [
       "                     Date    close\n",
       "0     2024-06-02 23:00:00  157.167\n",
       "1     2024-06-02 23:15:00  157.203\n",
       "2     2024-06-02 23:30:00  157.154\n",
       "3     2024-06-02 23:45:00  157.171\n",
       "4     2024-06-03 00:00:00  157.274\n",
       "...                   ...      ...\n",
       "6861  2024-09-10 12:00:00  143.047\n",
       "6862  2024-09-10 12:15:00  143.144\n",
       "6863  2024-09-10 12:30:00  143.166\n",
       "6864  2024-09-10 12:45:00  143.038\n",
       "6865  2024-09-10 13:00:00  143.072\n",
       "\n",
       "[6866 rows x 2 columns]"
      ]
     },
     "execution_count": 29,
     "metadata": {},
     "output_type": "execute_result"
    }
   ],
   "source": [
    "df[['Date', 'close']]"
   ]
  },
  {
   "cell_type": "code",
   "execution_count": 30,
   "id": "906a4f1a-a013-44f7-bf19-15c6adcb7d15",
   "metadata": {
    "canvas": {
     "comments": [],
     "componentType": "CodeCell",
     "copiedOriginId": null,
     "diskcache": false,
     "headerColor": "transparent",
     "id": "8f562709-b4de-4fad-be56-3f7bae47d90e",
     "isComponent": false,
     "name": "",
     "parents": []
    }
   },
   "outputs": [
    {
     "data": {
      "text/html": [
       "<div>\n",
       "<style scoped>\n",
       "    .dataframe tbody tr th:only-of-type {\n",
       "        vertical-align: middle;\n",
       "    }\n",
       "\n",
       "    .dataframe tbody tr th {\n",
       "        vertical-align: top;\n",
       "    }\n",
       "\n",
       "    .dataframe thead th {\n",
       "        text-align: right;\n",
       "    }\n",
       "</style>\n",
       "<table border=\"1\" class=\"dataframe\">\n",
       "  <thead>\n",
       "    <tr style=\"text-align: right;\">\n",
       "      <th></th>\n",
       "      <th>Date</th>\n",
       "      <th>Volume</th>\n",
       "    </tr>\n",
       "  </thead>\n",
       "  <tbody>\n",
       "    <tr>\n",
       "      <th>0</th>\n",
       "      <td>2024-06-02 23:00:00</td>\n",
       "      <td>151.0</td>\n",
       "    </tr>\n",
       "    <tr>\n",
       "      <th>1</th>\n",
       "      <td>2024-06-02 23:15:00</td>\n",
       "      <td>235.0</td>\n",
       "    </tr>\n",
       "    <tr>\n",
       "      <th>2</th>\n",
       "      <td>2024-06-02 23:30:00</td>\n",
       "      <td>355.0</td>\n",
       "    </tr>\n",
       "    <tr>\n",
       "      <th>3</th>\n",
       "      <td>2024-06-02 23:45:00</td>\n",
       "      <td>253.0</td>\n",
       "    </tr>\n",
       "    <tr>\n",
       "      <th>4</th>\n",
       "      <td>2024-06-03 00:00:00</td>\n",
       "      <td>838.0</td>\n",
       "    </tr>\n",
       "    <tr>\n",
       "      <th>...</th>\n",
       "      <td>...</td>\n",
       "      <td>...</td>\n",
       "    </tr>\n",
       "    <tr>\n",
       "      <th>6861</th>\n",
       "      <td>2024-09-10 12:00:00</td>\n",
       "      <td>4155.0</td>\n",
       "    </tr>\n",
       "    <tr>\n",
       "      <th>6862</th>\n",
       "      <td>2024-09-10 12:15:00</td>\n",
       "      <td>4524.0</td>\n",
       "    </tr>\n",
       "    <tr>\n",
       "      <th>6863</th>\n",
       "      <td>2024-09-10 12:30:00</td>\n",
       "      <td>3393.0</td>\n",
       "    </tr>\n",
       "    <tr>\n",
       "      <th>6864</th>\n",
       "      <td>2024-09-10 12:45:00</td>\n",
       "      <td>4982.0</td>\n",
       "    </tr>\n",
       "    <tr>\n",
       "      <th>6865</th>\n",
       "      <td>2024-09-10 13:00:00</td>\n",
       "      <td>773.0</td>\n",
       "    </tr>\n",
       "  </tbody>\n",
       "</table>\n",
       "<p>6866 rows × 2 columns</p>\n",
       "</div>"
      ],
      "text/plain": [
       "                     Date  Volume\n",
       "0     2024-06-02 23:00:00   151.0\n",
       "1     2024-06-02 23:15:00   235.0\n",
       "2     2024-06-02 23:30:00   355.0\n",
       "3     2024-06-02 23:45:00   253.0\n",
       "4     2024-06-03 00:00:00   838.0\n",
       "...                   ...     ...\n",
       "6861  2024-09-10 12:00:00  4155.0\n",
       "6862  2024-09-10 12:15:00  4524.0\n",
       "6863  2024-09-10 12:30:00  3393.0\n",
       "6864  2024-09-10 12:45:00  4982.0\n",
       "6865  2024-09-10 13:00:00   773.0\n",
       "\n",
       "[6866 rows x 2 columns]"
      ]
     },
     "execution_count": 30,
     "metadata": {},
     "output_type": "execute_result"
    }
   ],
   "source": [
    "cols_to_subset = ['Date' , 'Volume']\n",
    "df[cols_to_subset]"
   ]
  },
  {
   "cell_type": "code",
   "execution_count": 34,
   "id": "bbf41335-15db-4629-aa3e-c1bb22f82792",
   "metadata": {
    "canvas": {
     "comments": [],
     "componentType": "CodeCell",
     "copiedOriginId": null,
     "diskcache": false,
     "headerColor": "transparent",
     "id": "d45454cd-702b-4693-8819-0c6b86c8573b",
     "isComponent": false,
     "name": "",
     "parents": []
    }
   },
   "outputs": [
    {
     "data": {
      "text/plain": [
       "0        True\n",
       "1        True\n",
       "2        True\n",
       "3        True\n",
       "4        True\n",
       "        ...  \n",
       "6861    False\n",
       "6862    False\n",
       "6863    False\n",
       "6864    False\n",
       "6865    False\n",
       "Name: close, Length: 6866, dtype: bool"
      ]
     },
     "execution_count": 34,
     "metadata": {},
     "output_type": "execute_result"
    }
   ],
   "source": [
    "# Subsetting rows\n",
    "\n",
    "#1. Filtering by logical condition\n",
    "\n",
    "df['close'] > 150"
   ]
  },
  {
   "cell_type": "code",
   "execution_count": 43,
   "id": "d99f61f3-1e9e-456a-8fc2-d5855d33dd3a",
   "metadata": {
    "canvas": {
     "comments": [],
     "componentType": "CodeCell",
     "copiedOriginId": null,
     "diskcache": false,
     "headerColor": "transparent",
     "id": "363b90f6-b3dd-4ac3-96c8-d1beb4c6d4b4",
     "isComponent": false,
     "name": "",
     "parents": []
    }
   },
   "outputs": [
    {
     "data": {
      "text/html": [
       "<div>\n",
       "<style scoped>\n",
       "    .dataframe tbody tr th:only-of-type {\n",
       "        vertical-align: middle;\n",
       "    }\n",
       "\n",
       "    .dataframe tbody tr th {\n",
       "        vertical-align: top;\n",
       "    }\n",
       "\n",
       "    .dataframe thead th {\n",
       "        text-align: right;\n",
       "    }\n",
       "</style>\n",
       "<table border=\"1\" class=\"dataframe\">\n",
       "  <thead>\n",
       "    <tr style=\"text-align: right;\">\n",
       "      <th></th>\n",
       "      <th>Date</th>\n",
       "      <th>Open</th>\n",
       "      <th>High</th>\n",
       "      <th>Low</th>\n",
       "      <th>close</th>\n",
       "      <th>Volume</th>\n",
       "    </tr>\n",
       "  </thead>\n",
       "  <tbody>\n",
       "    <tr>\n",
       "      <th>2149</th>\n",
       "      <td>2024-07-03 08:15:00</td>\n",
       "      <td>161.883</td>\n",
       "      <td>161.939</td>\n",
       "      <td>161.881</td>\n",
       "      <td>161.924</td>\n",
       "      <td>1205.0</td>\n",
       "    </tr>\n",
       "    <tr>\n",
       "      <th>2164</th>\n",
       "      <td>2024-07-03 12:00:00</td>\n",
       "      <td>161.864</td>\n",
       "      <td>161.913</td>\n",
       "      <td>161.843</td>\n",
       "      <td>161.912</td>\n",
       "      <td>1353.0</td>\n",
       "    </tr>\n",
       "    <tr>\n",
       "      <th>2165</th>\n",
       "      <td>2024-07-03 12:15:00</td>\n",
       "      <td>161.912</td>\n",
       "      <td>161.949</td>\n",
       "      <td>161.898</td>\n",
       "      <td>161.924</td>\n",
       "      <td>1630.0</td>\n",
       "    </tr>\n",
       "    <tr>\n",
       "      <th>2166</th>\n",
       "      <td>2024-07-03 12:30:00</td>\n",
       "      <td>161.924</td>\n",
       "      <td>161.949</td>\n",
       "      <td>161.905</td>\n",
       "      <td>161.910</td>\n",
       "      <td>2029.0</td>\n",
       "    </tr>\n",
       "    <tr>\n",
       "      <th>2167</th>\n",
       "      <td>2024-07-03 12:45:00</td>\n",
       "      <td>161.910</td>\n",
       "      <td>161.947</td>\n",
       "      <td>161.904</td>\n",
       "      <td>161.938</td>\n",
       "      <td>1452.0</td>\n",
       "    </tr>\n",
       "    <tr>\n",
       "      <th>2168</th>\n",
       "      <td>2024-07-03 13:00:00</td>\n",
       "      <td>161.938</td>\n",
       "      <td>161.951</td>\n",
       "      <td>161.916</td>\n",
       "      <td>161.932</td>\n",
       "      <td>2062.0</td>\n",
       "    </tr>\n",
       "    <tr>\n",
       "      <th>2169</th>\n",
       "      <td>2024-07-03 13:15:00</td>\n",
       "      <td>161.932</td>\n",
       "      <td>161.938</td>\n",
       "      <td>161.907</td>\n",
       "      <td>161.915</td>\n",
       "      <td>2134.0</td>\n",
       "    </tr>\n",
       "    <tr>\n",
       "      <th>2170</th>\n",
       "      <td>2024-07-03 13:30:00</td>\n",
       "      <td>161.915</td>\n",
       "      <td>161.933</td>\n",
       "      <td>161.895</td>\n",
       "      <td>161.916</td>\n",
       "      <td>2025.0</td>\n",
       "    </tr>\n",
       "    <tr>\n",
       "      <th>2171</th>\n",
       "      <td>2024-07-03 13:45:00</td>\n",
       "      <td>161.916</td>\n",
       "      <td>161.925</td>\n",
       "      <td>161.894</td>\n",
       "      <td>161.919</td>\n",
       "      <td>1784.0</td>\n",
       "    </tr>\n",
       "  </tbody>\n",
       "</table>\n",
       "</div>"
      ],
      "text/plain": [
       "                     Date     Open     High      Low    close  Volume\n",
       "2149  2024-07-03 08:15:00  161.883  161.939  161.881  161.924  1205.0\n",
       "2164  2024-07-03 12:00:00  161.864  161.913  161.843  161.912  1353.0\n",
       "2165  2024-07-03 12:15:00  161.912  161.949  161.898  161.924  1630.0\n",
       "2166  2024-07-03 12:30:00  161.924  161.949  161.905  161.910  2029.0\n",
       "2167  2024-07-03 12:45:00  161.910  161.947  161.904  161.938  1452.0\n",
       "2168  2024-07-03 13:00:00  161.938  161.951  161.916  161.932  2062.0\n",
       "2169  2024-07-03 13:15:00  161.932  161.938  161.907  161.915  2134.0\n",
       "2170  2024-07-03 13:30:00  161.915  161.933  161.895  161.916  2025.0\n",
       "2171  2024-07-03 13:45:00  161.916  161.925  161.894  161.919  1784.0"
      ]
     },
     "execution_count": 43,
     "metadata": {},
     "output_type": "execute_result"
    }
   ],
   "source": [
    "df[df['close'] > 161.900 ]"
   ]
  },
  {
   "cell_type": "code",
   "execution_count": 58,
   "id": "c8aae5ab-45d6-45df-af7c-fc4d6cdc29e1",
   "metadata": {
    "canvas": {
     "comments": [],
     "componentType": "CodeCell",
     "copiedOriginId": null,
     "diskcache": false,
     "headerColor": "transparent",
     "id": "a63a6a4f-edd6-4a09-ade8-f9b447b5a183",
     "isComponent": false,
     "name": "",
     "parents": []
    }
   },
   "outputs": [
    {
     "data": {
      "text/html": [
       "<div>\n",
       "<style scoped>\n",
       "    .dataframe tbody tr th:only-of-type {\n",
       "        vertical-align: middle;\n",
       "    }\n",
       "\n",
       "    .dataframe tbody tr th {\n",
       "        vertical-align: top;\n",
       "    }\n",
       "\n",
       "    .dataframe thead th {\n",
       "        text-align: right;\n",
       "    }\n",
       "</style>\n",
       "<table border=\"1\" class=\"dataframe\">\n",
       "  <thead>\n",
       "    <tr style=\"text-align: right;\">\n",
       "      <th></th>\n",
       "      <th>Date</th>\n",
       "      <th>Open</th>\n",
       "      <th>High</th>\n",
       "      <th>Low</th>\n",
       "      <th>close</th>\n",
       "      <th>Volume</th>\n",
       "      <th>Order_Type</th>\n",
       "    </tr>\n",
       "  </thead>\n",
       "  <tbody>\n",
       "    <tr>\n",
       "      <th>0</th>\n",
       "      <td>2024-06-02 23:00:00</td>\n",
       "      <td>157.267</td>\n",
       "      <td>157.267</td>\n",
       "      <td>157.161</td>\n",
       "      <td>157.167</td>\n",
       "      <td>151.0</td>\n",
       "      <td>sell</td>\n",
       "    </tr>\n",
       "    <tr>\n",
       "      <th>1</th>\n",
       "      <td>2024-06-02 23:15:00</td>\n",
       "      <td>157.167</td>\n",
       "      <td>157.219</td>\n",
       "      <td>157.167</td>\n",
       "      <td>157.203</td>\n",
       "      <td>235.0</td>\n",
       "      <td>sell</td>\n",
       "    </tr>\n",
       "    <tr>\n",
       "      <th>2</th>\n",
       "      <td>2024-06-02 23:30:00</td>\n",
       "      <td>157.203</td>\n",
       "      <td>157.208</td>\n",
       "      <td>157.144</td>\n",
       "      <td>157.154</td>\n",
       "      <td>355.0</td>\n",
       "      <td>sell</td>\n",
       "    </tr>\n",
       "    <tr>\n",
       "      <th>3</th>\n",
       "      <td>2024-06-02 23:45:00</td>\n",
       "      <td>157.154</td>\n",
       "      <td>157.229</td>\n",
       "      <td>157.145</td>\n",
       "      <td>157.171</td>\n",
       "      <td>253.0</td>\n",
       "      <td>sell</td>\n",
       "    </tr>\n",
       "    <tr>\n",
       "      <th>4</th>\n",
       "      <td>2024-06-03 00:00:00</td>\n",
       "      <td>157.171</td>\n",
       "      <td>157.297</td>\n",
       "      <td>157.149</td>\n",
       "      <td>157.274</td>\n",
       "      <td>838.0</td>\n",
       "      <td>sell</td>\n",
       "    </tr>\n",
       "    <tr>\n",
       "      <th>...</th>\n",
       "      <td>...</td>\n",
       "      <td>...</td>\n",
       "      <td>...</td>\n",
       "      <td>...</td>\n",
       "      <td>...</td>\n",
       "      <td>...</td>\n",
       "      <td>...</td>\n",
       "    </tr>\n",
       "    <tr>\n",
       "      <th>6861</th>\n",
       "      <td>2024-09-10 12:00:00</td>\n",
       "      <td>143.159</td>\n",
       "      <td>143.184</td>\n",
       "      <td>143.010</td>\n",
       "      <td>143.047</td>\n",
       "      <td>4155.0</td>\n",
       "      <td>sell</td>\n",
       "    </tr>\n",
       "    <tr>\n",
       "      <th>6862</th>\n",
       "      <td>2024-09-10 12:15:00</td>\n",
       "      <td>143.047</td>\n",
       "      <td>143.148</td>\n",
       "      <td>143.027</td>\n",
       "      <td>143.144</td>\n",
       "      <td>4524.0</td>\n",
       "      <td>sell</td>\n",
       "    </tr>\n",
       "    <tr>\n",
       "      <th>6863</th>\n",
       "      <td>2024-09-10 12:30:00</td>\n",
       "      <td>143.144</td>\n",
       "      <td>143.213</td>\n",
       "      <td>143.135</td>\n",
       "      <td>143.166</td>\n",
       "      <td>3393.0</td>\n",
       "      <td>sell</td>\n",
       "    </tr>\n",
       "    <tr>\n",
       "      <th>6864</th>\n",
       "      <td>2024-09-10 12:45:00</td>\n",
       "      <td>143.166</td>\n",
       "      <td>143.170</td>\n",
       "      <td>142.950</td>\n",
       "      <td>143.038</td>\n",
       "      <td>4982.0</td>\n",
       "      <td>sell</td>\n",
       "    </tr>\n",
       "    <tr>\n",
       "      <th>6865</th>\n",
       "      <td>2024-09-10 13:00:00</td>\n",
       "      <td>143.038</td>\n",
       "      <td>143.094</td>\n",
       "      <td>143.038</td>\n",
       "      <td>143.072</td>\n",
       "      <td>773.0</td>\n",
       "      <td>sell</td>\n",
       "    </tr>\n",
       "  </tbody>\n",
       "</table>\n",
       "<p>6866 rows × 7 columns</p>\n",
       "</div>"
      ],
      "text/plain": [
       "                     Date     Open     High      Low    close  Volume  \\\n",
       "0     2024-06-02 23:00:00  157.267  157.267  157.161  157.167   151.0   \n",
       "1     2024-06-02 23:15:00  157.167  157.219  157.167  157.203   235.0   \n",
       "2     2024-06-02 23:30:00  157.203  157.208  157.144  157.154   355.0   \n",
       "3     2024-06-02 23:45:00  157.154  157.229  157.145  157.171   253.0   \n",
       "4     2024-06-03 00:00:00  157.171  157.297  157.149  157.274   838.0   \n",
       "...                   ...      ...      ...      ...      ...     ...   \n",
       "6861  2024-09-10 12:00:00  143.159  143.184  143.010  143.047  4155.0   \n",
       "6862  2024-09-10 12:15:00  143.047  143.148  143.027  143.144  4524.0   \n",
       "6863  2024-09-10 12:30:00  143.144  143.213  143.135  143.166  3393.0   \n",
       "6864  2024-09-10 12:45:00  143.166  143.170  142.950  143.038  4982.0   \n",
       "6865  2024-09-10 13:00:00  143.038  143.094  143.038  143.072   773.0   \n",
       "\n",
       "     Order_Type  \n",
       "0          sell  \n",
       "1          sell  \n",
       "2          sell  \n",
       "3          sell  \n",
       "4          sell  \n",
       "...         ...  \n",
       "6861       sell  \n",
       "6862       sell  \n",
       "6863       sell  \n",
       "6864       sell  \n",
       "6865       sell  \n",
       "\n",
       "[6866 rows x 7 columns]"
      ]
     },
     "execution_count": 58,
     "metadata": {},
     "output_type": "execute_result"
    }
   ],
   "source": [
    "#2 Filtering based on text data\n",
    "\n",
    "df['Order_Type'] = df['Open'].apply(lambda x: 'buy' if x > 160 else 'sell')\n",
    "df\n"
   ]
  },
  {
   "cell_type": "code",
   "execution_count": 78,
   "id": "e63e3a90-0def-4d18-a22a-1bb85095da0b",
   "metadata": {
    "canvas": {
     "comments": [],
     "componentType": "CodeCell",
     "copiedOriginId": null,
     "diskcache": false,
     "headerColor": "transparent",
     "id": "0155c98c-ef97-46c2-a11d-ddd13e5204f2",
     "isComponent": false,
     "name": "",
     "parents": []
    }
   },
   "outputs": [
    {
     "data": {
      "text/html": [
       "<div>\n",
       "<style scoped>\n",
       "    .dataframe tbody tr th:only-of-type {\n",
       "        vertical-align: middle;\n",
       "    }\n",
       "\n",
       "    .dataframe tbody tr th {\n",
       "        vertical-align: top;\n",
       "    }\n",
       "\n",
       "    .dataframe thead th {\n",
       "        text-align: right;\n",
       "    }\n",
       "</style>\n",
       "<table border=\"1\" class=\"dataframe\">\n",
       "  <thead>\n",
       "    <tr style=\"text-align: right;\">\n",
       "      <th></th>\n",
       "      <th>Date</th>\n",
       "      <th>Open</th>\n",
       "      <th>High</th>\n",
       "      <th>Low</th>\n",
       "      <th>close</th>\n",
       "      <th>Volume</th>\n",
       "      <th>Order_Type</th>\n",
       "    </tr>\n",
       "  </thead>\n",
       "  <tbody>\n",
       "    <tr>\n",
       "      <th>1685</th>\n",
       "      <td>2024-06-26 12:15:00</td>\n",
       "      <td>160.140</td>\n",
       "      <td>160.147</td>\n",
       "      <td>160.047</td>\n",
       "      <td>160.098</td>\n",
       "      <td>4737.0</td>\n",
       "      <td>buy</td>\n",
       "    </tr>\n",
       "    <tr>\n",
       "      <th>1686</th>\n",
       "      <td>2024-06-26 12:30:00</td>\n",
       "      <td>160.098</td>\n",
       "      <td>160.146</td>\n",
       "      <td>160.066</td>\n",
       "      <td>160.138</td>\n",
       "      <td>4256.0</td>\n",
       "      <td>buy</td>\n",
       "    </tr>\n",
       "    <tr>\n",
       "      <th>1687</th>\n",
       "      <td>2024-06-26 12:45:00</td>\n",
       "      <td>160.138</td>\n",
       "      <td>160.345</td>\n",
       "      <td>160.131</td>\n",
       "      <td>160.298</td>\n",
       "      <td>5522.0</td>\n",
       "      <td>buy</td>\n",
       "    </tr>\n",
       "    <tr>\n",
       "      <th>1688</th>\n",
       "      <td>2024-06-26 13:00:00</td>\n",
       "      <td>160.298</td>\n",
       "      <td>160.393</td>\n",
       "      <td>160.198</td>\n",
       "      <td>160.269</td>\n",
       "      <td>6663.0</td>\n",
       "      <td>buy</td>\n",
       "    </tr>\n",
       "    <tr>\n",
       "      <th>1689</th>\n",
       "      <td>2024-06-26 13:15:00</td>\n",
       "      <td>160.269</td>\n",
       "      <td>160.323</td>\n",
       "      <td>160.228</td>\n",
       "      <td>160.267</td>\n",
       "      <td>4398.0</td>\n",
       "      <td>buy</td>\n",
       "    </tr>\n",
       "  </tbody>\n",
       "</table>\n",
       "</div>"
      ],
      "text/plain": [
       "                     Date     Open     High      Low    close  Volume  \\\n",
       "1685  2024-06-26 12:15:00  160.140  160.147  160.047  160.098  4737.0   \n",
       "1686  2024-06-26 12:30:00  160.098  160.146  160.066  160.138  4256.0   \n",
       "1687  2024-06-26 12:45:00  160.138  160.345  160.131  160.298  5522.0   \n",
       "1688  2024-06-26 13:00:00  160.298  160.393  160.198  160.269  6663.0   \n",
       "1689  2024-06-26 13:15:00  160.269  160.323  160.228  160.267  4398.0   \n",
       "\n",
       "     Order_Type  \n",
       "1685        buy  \n",
       "1686        buy  \n",
       "1687        buy  \n",
       "1688        buy  \n",
       "1689        buy  "
      ]
     },
     "execution_count": 78,
     "metadata": {},
     "output_type": "execute_result"
    }
   ],
   "source": [
    "filtered_df = df[df['Order_Type'] == 'buy' ]\n",
    "filtered_df.head()"
   ]
  },
  {
   "cell_type": "code",
   "execution_count": 77,
   "id": "038d5b18-907c-4aab-bf4a-eb70b40aa85f",
   "metadata": {
    "canvas": {
     "comments": [],
     "componentType": "CodeCell",
     "copiedOriginId": null,
     "diskcache": false,
     "headerColor": "transparent",
     "id": "e84e67e2-3489-4cc9-a965-d6a6149a9bfb",
     "isComponent": false,
     "name": "",
     "parents": []
    }
   },
   "outputs": [
    {
     "data": {
      "text/html": [
       "<div>\n",
       "<style scoped>\n",
       "    .dataframe tbody tr th:only-of-type {\n",
       "        vertical-align: middle;\n",
       "    }\n",
       "\n",
       "    .dataframe tbody tr th {\n",
       "        vertical-align: top;\n",
       "    }\n",
       "\n",
       "    .dataframe thead th {\n",
       "        text-align: right;\n",
       "    }\n",
       "</style>\n",
       "<table border=\"1\" class=\"dataframe\">\n",
       "  <thead>\n",
       "    <tr style=\"text-align: right;\">\n",
       "      <th></th>\n",
       "      <th>Date</th>\n",
       "      <th>Open</th>\n",
       "      <th>High</th>\n",
       "      <th>Low</th>\n",
       "      <th>close</th>\n",
       "      <th>Volume</th>\n",
       "      <th>Order_Type</th>\n",
       "    </tr>\n",
       "  </thead>\n",
       "  <tbody>\n",
       "    <tr>\n",
       "      <th>2692</th>\n",
       "      <td>2024-07-11 00:00:00</td>\n",
       "      <td>161.562</td>\n",
       "      <td>161.627</td>\n",
       "      <td>161.562</td>\n",
       "      <td>161.587</td>\n",
       "      <td>472.0</td>\n",
       "      <td>buy</td>\n",
       "    </tr>\n",
       "    <tr>\n",
       "      <th>2693</th>\n",
       "      <td>2024-07-11 00:15:00</td>\n",
       "      <td>161.587</td>\n",
       "      <td>161.616</td>\n",
       "      <td>161.587</td>\n",
       "      <td>161.599</td>\n",
       "      <td>451.0</td>\n",
       "      <td>buy</td>\n",
       "    </tr>\n",
       "    <tr>\n",
       "      <th>2694</th>\n",
       "      <td>2024-07-11 00:30:00</td>\n",
       "      <td>161.599</td>\n",
       "      <td>161.604</td>\n",
       "      <td>161.573</td>\n",
       "      <td>161.580</td>\n",
       "      <td>481.0</td>\n",
       "      <td>buy</td>\n",
       "    </tr>\n",
       "    <tr>\n",
       "      <th>2695</th>\n",
       "      <td>2024-07-11 00:45:00</td>\n",
       "      <td>161.580</td>\n",
       "      <td>161.593</td>\n",
       "      <td>161.576</td>\n",
       "      <td>161.591</td>\n",
       "      <td>354.0</td>\n",
       "      <td>buy</td>\n",
       "    </tr>\n",
       "    <tr>\n",
       "      <th>2696</th>\n",
       "      <td>2024-07-11 01:00:00</td>\n",
       "      <td>161.591</td>\n",
       "      <td>161.596</td>\n",
       "      <td>161.574</td>\n",
       "      <td>161.575</td>\n",
       "      <td>862.0</td>\n",
       "      <td>buy</td>\n",
       "    </tr>\n",
       "  </tbody>\n",
       "</table>\n",
       "</div>"
      ],
      "text/plain": [
       "                     Date     Open     High      Low    close  Volume  \\\n",
       "2692  2024-07-11 00:00:00  161.562  161.627  161.562  161.587   472.0   \n",
       "2693  2024-07-11 00:15:00  161.587  161.616  161.587  161.599   451.0   \n",
       "2694  2024-07-11 00:30:00  161.599  161.604  161.573  161.580   481.0   \n",
       "2695  2024-07-11 00:45:00  161.580  161.593  161.576  161.591   354.0   \n",
       "2696  2024-07-11 01:00:00  161.591  161.596  161.574  161.575   862.0   \n",
       "\n",
       "     Order_Type  \n",
       "2692        buy  \n",
       "2693        buy  \n",
       "2694        buy  \n",
       "2695        buy  \n",
       "2696        buy  "
      ]
     },
     "execution_count": 77,
     "metadata": {},
     "output_type": "execute_result"
    }
   ],
   "source": [
    "#3 Subsetinng based on dates\n",
    "\n",
    "filtered_df[filtered_df['Date'] > '2024-07-11'].head()"
   ]
  },
  {
   "cell_type": "code",
   "execution_count": 96,
   "id": "6a29a3f4-454e-47cf-b4b3-07edf46dc7f9",
   "metadata": {
    "canvas": {
     "comments": [],
     "componentType": "CodeCell",
     "copiedOriginId": null,
     "diskcache": false,
     "headerColor": "transparent",
     "id": "87477784-957c-4e9b-8b00-fe92d3194baf",
     "isComponent": false,
     "name": "",
     "parents": []
    }
   },
   "outputs": [
    {
     "data": {
      "text/html": [
       "<div>\n",
       "<style scoped>\n",
       "    .dataframe tbody tr th:only-of-type {\n",
       "        vertical-align: middle;\n",
       "    }\n",
       "\n",
       "    .dataframe tbody tr th {\n",
       "        vertical-align: top;\n",
       "    }\n",
       "\n",
       "    .dataframe thead th {\n",
       "        text-align: right;\n",
       "    }\n",
       "</style>\n",
       "<table border=\"1\" class=\"dataframe\">\n",
       "  <thead>\n",
       "    <tr style=\"text-align: right;\">\n",
       "      <th></th>\n",
       "      <th>Date</th>\n",
       "      <th>Open</th>\n",
       "      <th>High</th>\n",
       "      <th>Low</th>\n",
       "      <th>close</th>\n",
       "      <th>Volume</th>\n",
       "      <th>Order_Type</th>\n",
       "    </tr>\n",
       "  </thead>\n",
       "  <tbody>\n",
       "    <tr>\n",
       "      <th>2180</th>\n",
       "      <td>2024-07-03 16:00:00</td>\n",
       "      <td>161.686</td>\n",
       "      <td>161.686</td>\n",
       "      <td>160.766</td>\n",
       "      <td>160.964</td>\n",
       "      <td>20245.0</td>\n",
       "      <td>buy</td>\n",
       "    </tr>\n",
       "    <tr>\n",
       "      <th>2181</th>\n",
       "      <td>2024-07-03 16:15:00</td>\n",
       "      <td>160.964</td>\n",
       "      <td>161.237</td>\n",
       "      <td>160.871</td>\n",
       "      <td>161.235</td>\n",
       "      <td>14053.0</td>\n",
       "      <td>buy</td>\n",
       "    </tr>\n",
       "    <tr>\n",
       "      <th>2366</th>\n",
       "      <td>2024-07-05 14:30:00</td>\n",
       "      <td>160.535</td>\n",
       "      <td>161.154</td>\n",
       "      <td>160.329</td>\n",
       "      <td>160.825</td>\n",
       "      <td>28515.0</td>\n",
       "      <td>buy</td>\n",
       "    </tr>\n",
       "    <tr>\n",
       "      <th>2367</th>\n",
       "      <td>2024-07-05 14:45:00</td>\n",
       "      <td>160.825</td>\n",
       "      <td>161.050</td>\n",
       "      <td>160.763</td>\n",
       "      <td>160.943</td>\n",
       "      <td>15864.0</td>\n",
       "      <td>buy</td>\n",
       "    </tr>\n",
       "    <tr>\n",
       "      <th>2368</th>\n",
       "      <td>2024-07-05 15:00:00</td>\n",
       "      <td>160.943</td>\n",
       "      <td>161.023</td>\n",
       "      <td>160.778</td>\n",
       "      <td>160.874</td>\n",
       "      <td>12684.0</td>\n",
       "      <td>buy</td>\n",
       "    </tr>\n",
       "    <tr>\n",
       "      <th>2564</th>\n",
       "      <td>2024-07-09 16:00:00</td>\n",
       "      <td>161.016</td>\n",
       "      <td>161.315</td>\n",
       "      <td>160.887</td>\n",
       "      <td>161.125</td>\n",
       "      <td>11230.0</td>\n",
       "      <td>buy</td>\n",
       "    </tr>\n",
       "    <tr>\n",
       "      <th>2750</th>\n",
       "      <td>2024-07-11 14:30:00</td>\n",
       "      <td>161.516</td>\n",
       "      <td>161.519</td>\n",
       "      <td>158.440</td>\n",
       "      <td>158.749</td>\n",
       "      <td>34677.0</td>\n",
       "      <td>buy</td>\n",
       "    </tr>\n",
       "  </tbody>\n",
       "</table>\n",
       "</div>"
      ],
      "text/plain": [
       "                     Date     Open     High      Low    close   Volume  \\\n",
       "2180  2024-07-03 16:00:00  161.686  161.686  160.766  160.964  20245.0   \n",
       "2181  2024-07-03 16:15:00  160.964  161.237  160.871  161.235  14053.0   \n",
       "2366  2024-07-05 14:30:00  160.535  161.154  160.329  160.825  28515.0   \n",
       "2367  2024-07-05 14:45:00  160.825  161.050  160.763  160.943  15864.0   \n",
       "2368  2024-07-05 15:00:00  160.943  161.023  160.778  160.874  12684.0   \n",
       "2564  2024-07-09 16:00:00  161.016  161.315  160.887  161.125  11230.0   \n",
       "2750  2024-07-11 14:30:00  161.516  161.519  158.440  158.749  34677.0   \n",
       "\n",
       "     Order_Type  \n",
       "2180        buy  \n",
       "2181        buy  \n",
       "2366        buy  \n",
       "2367        buy  \n",
       "2368        buy  \n",
       "2564        buy  \n",
       "2750        buy  "
      ]
     },
     "execution_count": 96,
     "metadata": {},
     "output_type": "execute_result"
    }
   ],
   "source": [
    "#4 Subsetting based on multiple conditions\n",
    "\n",
    "is_july = filtered_df['Date'].str.startswith('2024-07')\n",
    "is_volume = filtered_df['Volume'] > 11000\n",
    "\n",
    "filtered_df[is_july & is_volume]"
   ]
  },
  {
   "cell_type": "code",
   "execution_count": 99,
   "id": "733cce50-da98-4ae7-8f69-3e1a30560bf0",
   "metadata": {
    "canvas": {
     "comments": [],
     "componentType": "CodeCell",
     "copiedOriginId": null,
     "diskcache": false,
     "headerColor": "transparent",
     "id": "5c8ad36d-7486-4e92-b740-074acc4073d6",
     "isComponent": false,
     "name": "",
     "parents": []
    }
   },
   "outputs": [
    {
     "data": {
      "text/html": [
       "<div>\n",
       "<style scoped>\n",
       "    .dataframe tbody tr th:only-of-type {\n",
       "        vertical-align: middle;\n",
       "    }\n",
       "\n",
       "    .dataframe tbody tr th {\n",
       "        vertical-align: top;\n",
       "    }\n",
       "\n",
       "    .dataframe thead th {\n",
       "        text-align: right;\n",
       "    }\n",
       "</style>\n",
       "<table border=\"1\" class=\"dataframe\">\n",
       "  <thead>\n",
       "    <tr style=\"text-align: right;\">\n",
       "      <th></th>\n",
       "      <th>Date</th>\n",
       "      <th>Open</th>\n",
       "      <th>High</th>\n",
       "      <th>Low</th>\n",
       "      <th>close</th>\n",
       "      <th>Volume</th>\n",
       "      <th>Order_Type</th>\n",
       "    </tr>\n",
       "  </thead>\n",
       "  <tbody>\n",
       "    <tr>\n",
       "      <th>2180</th>\n",
       "      <td>2024-07-03 16:00:00</td>\n",
       "      <td>161.686</td>\n",
       "      <td>161.686</td>\n",
       "      <td>160.766</td>\n",
       "      <td>160.964</td>\n",
       "      <td>20245.0</td>\n",
       "      <td>buy</td>\n",
       "    </tr>\n",
       "    <tr>\n",
       "      <th>2181</th>\n",
       "      <td>2024-07-03 16:15:00</td>\n",
       "      <td>160.964</td>\n",
       "      <td>161.237</td>\n",
       "      <td>160.871</td>\n",
       "      <td>161.235</td>\n",
       "      <td>14053.0</td>\n",
       "      <td>buy</td>\n",
       "    </tr>\n",
       "    <tr>\n",
       "      <th>2366</th>\n",
       "      <td>2024-07-05 14:30:00</td>\n",
       "      <td>160.535</td>\n",
       "      <td>161.154</td>\n",
       "      <td>160.329</td>\n",
       "      <td>160.825</td>\n",
       "      <td>28515.0</td>\n",
       "      <td>buy</td>\n",
       "    </tr>\n",
       "    <tr>\n",
       "      <th>2367</th>\n",
       "      <td>2024-07-05 14:45:00</td>\n",
       "      <td>160.825</td>\n",
       "      <td>161.050</td>\n",
       "      <td>160.763</td>\n",
       "      <td>160.943</td>\n",
       "      <td>15864.0</td>\n",
       "      <td>buy</td>\n",
       "    </tr>\n",
       "    <tr>\n",
       "      <th>2368</th>\n",
       "      <td>2024-07-05 15:00:00</td>\n",
       "      <td>160.943</td>\n",
       "      <td>161.023</td>\n",
       "      <td>160.778</td>\n",
       "      <td>160.874</td>\n",
       "      <td>12684.0</td>\n",
       "      <td>buy</td>\n",
       "    </tr>\n",
       "    <tr>\n",
       "      <th>2564</th>\n",
       "      <td>2024-07-09 16:00:00</td>\n",
       "      <td>161.016</td>\n",
       "      <td>161.315</td>\n",
       "      <td>160.887</td>\n",
       "      <td>161.125</td>\n",
       "      <td>11230.0</td>\n",
       "      <td>buy</td>\n",
       "    </tr>\n",
       "    <tr>\n",
       "      <th>2750</th>\n",
       "      <td>2024-07-11 14:30:00</td>\n",
       "      <td>161.516</td>\n",
       "      <td>161.519</td>\n",
       "      <td>158.440</td>\n",
       "      <td>158.749</td>\n",
       "      <td>34677.0</td>\n",
       "      <td>buy</td>\n",
       "    </tr>\n",
       "  </tbody>\n",
       "</table>\n",
       "</div>"
      ],
      "text/plain": [
       "                     Date     Open     High      Low    close   Volume  \\\n",
       "2180  2024-07-03 16:00:00  161.686  161.686  160.766  160.964  20245.0   \n",
       "2181  2024-07-03 16:15:00  160.964  161.237  160.871  161.235  14053.0   \n",
       "2366  2024-07-05 14:30:00  160.535  161.154  160.329  160.825  28515.0   \n",
       "2367  2024-07-05 14:45:00  160.825  161.050  160.763  160.943  15864.0   \n",
       "2368  2024-07-05 15:00:00  160.943  161.023  160.778  160.874  12684.0   \n",
       "2564  2024-07-09 16:00:00  161.016  161.315  160.887  161.125  11230.0   \n",
       "2750  2024-07-11 14:30:00  161.516  161.519  158.440  158.749  34677.0   \n",
       "\n",
       "     Order_Type  \n",
       "2180        buy  \n",
       "2181        buy  \n",
       "2366        buy  \n",
       "2367        buy  \n",
       "2368        buy  \n",
       "2564        buy  \n",
       "2750        buy  "
      ]
     },
     "execution_count": 99,
     "metadata": {},
     "output_type": "execute_result"
    }
   ],
   "source": [
    "#or as a one liner \n",
    "\n",
    "filtered_df[ (filtered_df['Date'].str.startswith('2024-07')) & (filtered_df['Volume'] > 11000) ]"
   ]
  },
  {
   "cell_type": "markdown",
   "id": "bed8ce55-eb67-452e-a9b2-6718d936333d",
   "metadata": {
    "canvas": {
     "comments": [],
     "componentType": "CodeCell",
     "copiedOriginId": null,
     "diskcache": false,
     "headerColor": "transparent",
     "id": "78b66e6d-5ceb-479a-98b0-84b0d1e78461",
     "isComponent": false,
     "name": "",
     "parents": []
    }
   },
   "source": [
    "## *Creating New Columns*\n",
    "\n",
    "- mutating df\n",
    "- transforming df\n",
    "- feature engineering"
   ]
  },
  {
   "cell_type": "code",
   "execution_count": 101,
   "id": "632be809-5137-425f-b302-a935a4444123",
   "metadata": {
    "canvas": {
     "comments": [],
     "componentType": "CodeCell",
     "copiedOriginId": null,
     "diskcache": false,
     "headerColor": "transparent",
     "id": "9a6dc77d-0786-45aa-af45-14758a7ee99e",
     "isComponent": false,
     "name": "",
     "parents": []
    }
   },
   "outputs": [
    {
     "data": {
      "text/html": [
       "<div>\n",
       "<style scoped>\n",
       "    .dataframe tbody tr th:only-of-type {\n",
       "        vertical-align: middle;\n",
       "    }\n",
       "\n",
       "    .dataframe tbody tr th {\n",
       "        vertical-align: top;\n",
       "    }\n",
       "\n",
       "    .dataframe thead th {\n",
       "        text-align: right;\n",
       "    }\n",
       "</style>\n",
       "<table border=\"1\" class=\"dataframe\">\n",
       "  <thead>\n",
       "    <tr style=\"text-align: right;\">\n",
       "      <th></th>\n",
       "      <th>Date</th>\n",
       "      <th>Open</th>\n",
       "      <th>High</th>\n",
       "      <th>Low</th>\n",
       "      <th>close</th>\n",
       "      <th>Volume</th>\n",
       "      <th>Order_Type</th>\n",
       "    </tr>\n",
       "  </thead>\n",
       "  <tbody>\n",
       "    <tr>\n",
       "      <th>0</th>\n",
       "      <td>2024-06-02 23:00:00</td>\n",
       "      <td>157.267</td>\n",
       "      <td>157.267</td>\n",
       "      <td>157.161</td>\n",
       "      <td>157.167</td>\n",
       "      <td>151.0</td>\n",
       "      <td>sell</td>\n",
       "    </tr>\n",
       "    <tr>\n",
       "      <th>1</th>\n",
       "      <td>2024-06-02 23:15:00</td>\n",
       "      <td>157.167</td>\n",
       "      <td>157.219</td>\n",
       "      <td>157.167</td>\n",
       "      <td>157.203</td>\n",
       "      <td>235.0</td>\n",
       "      <td>sell</td>\n",
       "    </tr>\n",
       "    <tr>\n",
       "      <th>2</th>\n",
       "      <td>2024-06-02 23:30:00</td>\n",
       "      <td>157.203</td>\n",
       "      <td>157.208</td>\n",
       "      <td>157.144</td>\n",
       "      <td>157.154</td>\n",
       "      <td>355.0</td>\n",
       "      <td>sell</td>\n",
       "    </tr>\n",
       "    <tr>\n",
       "      <th>3</th>\n",
       "      <td>2024-06-02 23:45:00</td>\n",
       "      <td>157.154</td>\n",
       "      <td>157.229</td>\n",
       "      <td>157.145</td>\n",
       "      <td>157.171</td>\n",
       "      <td>253.0</td>\n",
       "      <td>sell</td>\n",
       "    </tr>\n",
       "    <tr>\n",
       "      <th>4</th>\n",
       "      <td>2024-06-03 00:00:00</td>\n",
       "      <td>157.171</td>\n",
       "      <td>157.297</td>\n",
       "      <td>157.149</td>\n",
       "      <td>157.274</td>\n",
       "      <td>838.0</td>\n",
       "      <td>sell</td>\n",
       "    </tr>\n",
       "  </tbody>\n",
       "</table>\n",
       "</div>"
      ],
      "text/plain": [
       "                  Date     Open     High      Low    close  Volume Order_Type\n",
       "0  2024-06-02 23:00:00  157.267  157.267  157.161  157.167   151.0       sell\n",
       "1  2024-06-02 23:15:00  157.167  157.219  157.167  157.203   235.0       sell\n",
       "2  2024-06-02 23:30:00  157.203  157.208  157.144  157.154   355.0       sell\n",
       "3  2024-06-02 23:45:00  157.154  157.229  157.145  157.171   253.0       sell\n",
       "4  2024-06-03 00:00:00  157.171  157.297  157.149  157.274   838.0       sell"
      ]
     },
     "execution_count": 101,
     "metadata": {},
     "output_type": "execute_result"
    }
   ],
   "source": [
    "df.head()"
   ]
  },
  {
   "cell_type": "code",
   "execution_count": 102,
   "id": "09275a6f-62c9-47b0-a67f-2f3826e0e368",
   "metadata": {
    "canvas": {
     "comments": [],
     "componentType": "CodeCell",
     "copiedOriginId": null,
     "diskcache": false,
     "headerColor": "transparent",
     "id": "26fe5026-aa11-4f47-8596-50e2e296d095",
     "isComponent": false,
     "name": "",
     "parents": []
    }
   },
   "outputs": [],
   "source": [
    "df['Bid/Ask_Spread'] = (df['High'] - df['Low']) / 2.0"
   ]
  },
  {
   "cell_type": "code",
   "execution_count": 103,
   "id": "96ce9326-6805-41e4-bc5b-f5ad9ae0854f",
   "metadata": {
    "canvas": {
     "comments": [],
     "componentType": "CodeCell",
     "copiedOriginId": null,
     "diskcache": false,
     "headerColor": "transparent",
     "id": "2d623fc0-9ba0-4168-b94e-ebe0f510f8cf",
     "isComponent": false,
     "name": "",
     "parents": []
    }
   },
   "outputs": [
    {
     "data": {
      "text/html": [
       "<div>\n",
       "<style scoped>\n",
       "    .dataframe tbody tr th:only-of-type {\n",
       "        vertical-align: middle;\n",
       "    }\n",
       "\n",
       "    .dataframe tbody tr th {\n",
       "        vertical-align: top;\n",
       "    }\n",
       "\n",
       "    .dataframe thead th {\n",
       "        text-align: right;\n",
       "    }\n",
       "</style>\n",
       "<table border=\"1\" class=\"dataframe\">\n",
       "  <thead>\n",
       "    <tr style=\"text-align: right;\">\n",
       "      <th></th>\n",
       "      <th>Date</th>\n",
       "      <th>Open</th>\n",
       "      <th>High</th>\n",
       "      <th>Low</th>\n",
       "      <th>close</th>\n",
       "      <th>Volume</th>\n",
       "      <th>Order_Type</th>\n",
       "      <th>Bid/Ask_Spread</th>\n",
       "    </tr>\n",
       "  </thead>\n",
       "  <tbody>\n",
       "    <tr>\n",
       "      <th>0</th>\n",
       "      <td>2024-06-02 23:00:00</td>\n",
       "      <td>157.267</td>\n",
       "      <td>157.267</td>\n",
       "      <td>157.161</td>\n",
       "      <td>157.167</td>\n",
       "      <td>151.0</td>\n",
       "      <td>sell</td>\n",
       "      <td>0.053</td>\n",
       "    </tr>\n",
       "    <tr>\n",
       "      <th>1</th>\n",
       "      <td>2024-06-02 23:15:00</td>\n",
       "      <td>157.167</td>\n",
       "      <td>157.219</td>\n",
       "      <td>157.167</td>\n",
       "      <td>157.203</td>\n",
       "      <td>235.0</td>\n",
       "      <td>sell</td>\n",
       "      <td>0.026</td>\n",
       "    </tr>\n",
       "    <tr>\n",
       "      <th>2</th>\n",
       "      <td>2024-06-02 23:30:00</td>\n",
       "      <td>157.203</td>\n",
       "      <td>157.208</td>\n",
       "      <td>157.144</td>\n",
       "      <td>157.154</td>\n",
       "      <td>355.0</td>\n",
       "      <td>sell</td>\n",
       "      <td>0.032</td>\n",
       "    </tr>\n",
       "    <tr>\n",
       "      <th>3</th>\n",
       "      <td>2024-06-02 23:45:00</td>\n",
       "      <td>157.154</td>\n",
       "      <td>157.229</td>\n",
       "      <td>157.145</td>\n",
       "      <td>157.171</td>\n",
       "      <td>253.0</td>\n",
       "      <td>sell</td>\n",
       "      <td>0.042</td>\n",
       "    </tr>\n",
       "    <tr>\n",
       "      <th>4</th>\n",
       "      <td>2024-06-03 00:00:00</td>\n",
       "      <td>157.171</td>\n",
       "      <td>157.297</td>\n",
       "      <td>157.149</td>\n",
       "      <td>157.274</td>\n",
       "      <td>838.0</td>\n",
       "      <td>sell</td>\n",
       "      <td>0.074</td>\n",
       "    </tr>\n",
       "  </tbody>\n",
       "</table>\n",
       "</div>"
      ],
      "text/plain": [
       "                  Date     Open     High      Low    close  Volume Order_Type  \\\n",
       "0  2024-06-02 23:00:00  157.267  157.267  157.161  157.167   151.0       sell   \n",
       "1  2024-06-02 23:15:00  157.167  157.219  157.167  157.203   235.0       sell   \n",
       "2  2024-06-02 23:30:00  157.203  157.208  157.144  157.154   355.0       sell   \n",
       "3  2024-06-02 23:45:00  157.154  157.229  157.145  157.171   253.0       sell   \n",
       "4  2024-06-03 00:00:00  157.171  157.297  157.149  157.274   838.0       sell   \n",
       "\n",
       "   Bid/Ask_Spread  \n",
       "0           0.053  \n",
       "1           0.026  \n",
       "2           0.032  \n",
       "3           0.042  \n",
       "4           0.074  "
      ]
     },
     "execution_count": 103,
     "metadata": {},
     "output_type": "execute_result"
    }
   ],
   "source": [
    "df.head()"
   ]
  },
  {
   "cell_type": "code",
   "execution_count": 120,
   "id": "8b04ec7e-261a-4272-8676-e33151d9c0b9",
   "metadata": {
    "canvas": {
     "comments": [],
     "componentType": "CodeCell",
     "copiedOriginId": null,
     "diskcache": false,
     "headerColor": "transparent",
     "id": "fc07e606-17ad-4e23-a6ea-e8c068bf866c",
     "isComponent": false,
     "name": "",
     "parents": []
    }
   },
   "outputs": [],
   "source": [
    "df['Log_Return'] = df['close'].pct_change() * 100 "
   ]
  },
  {
   "cell_type": "code",
   "execution_count": 122,
   "id": "8830e75a-55f5-40f8-a30c-f99fcde9a27c",
   "metadata": {
    "canvas": {
     "comments": [],
     "componentType": "CodeCell",
     "copiedOriginId": null,
     "diskcache": false,
     "headerColor": "transparent",
     "id": "57610e06-f17e-4e40-b301-7dc70aeb628d",
     "isComponent": false,
     "name": "",
     "parents": []
    }
   },
   "outputs": [
    {
     "data": {
      "text/html": [
       "<div>\n",
       "<style scoped>\n",
       "    .dataframe tbody tr th:only-of-type {\n",
       "        vertical-align: middle;\n",
       "    }\n",
       "\n",
       "    .dataframe tbody tr th {\n",
       "        vertical-align: top;\n",
       "    }\n",
       "\n",
       "    .dataframe thead th {\n",
       "        text-align: right;\n",
       "    }\n",
       "</style>\n",
       "<table border=\"1\" class=\"dataframe\">\n",
       "  <thead>\n",
       "    <tr style=\"text-align: right;\">\n",
       "      <th></th>\n",
       "      <th>Date</th>\n",
       "      <th>Open</th>\n",
       "      <th>High</th>\n",
       "      <th>Low</th>\n",
       "      <th>close</th>\n",
       "      <th>Volume</th>\n",
       "      <th>Order_Type</th>\n",
       "      <th>Bid/Ask_Spread</th>\n",
       "      <th>Log_Return</th>\n",
       "    </tr>\n",
       "  </thead>\n",
       "  <tbody>\n",
       "    <tr>\n",
       "      <th>6861</th>\n",
       "      <td>2024-09-10 12:00:00</td>\n",
       "      <td>143.159</td>\n",
       "      <td>143.184</td>\n",
       "      <td>143.010</td>\n",
       "      <td>143.047</td>\n",
       "      <td>4155.0</td>\n",
       "      <td>sell</td>\n",
       "      <td>0.0870</td>\n",
       "      <td>-0.078235</td>\n",
       "    </tr>\n",
       "    <tr>\n",
       "      <th>6862</th>\n",
       "      <td>2024-09-10 12:15:00</td>\n",
       "      <td>143.047</td>\n",
       "      <td>143.148</td>\n",
       "      <td>143.027</td>\n",
       "      <td>143.144</td>\n",
       "      <td>4524.0</td>\n",
       "      <td>sell</td>\n",
       "      <td>0.0605</td>\n",
       "      <td>0.067810</td>\n",
       "    </tr>\n",
       "    <tr>\n",
       "      <th>6863</th>\n",
       "      <td>2024-09-10 12:30:00</td>\n",
       "      <td>143.144</td>\n",
       "      <td>143.213</td>\n",
       "      <td>143.135</td>\n",
       "      <td>143.166</td>\n",
       "      <td>3393.0</td>\n",
       "      <td>sell</td>\n",
       "      <td>0.0390</td>\n",
       "      <td>0.015369</td>\n",
       "    </tr>\n",
       "    <tr>\n",
       "      <th>6864</th>\n",
       "      <td>2024-09-10 12:45:00</td>\n",
       "      <td>143.166</td>\n",
       "      <td>143.170</td>\n",
       "      <td>142.950</td>\n",
       "      <td>143.038</td>\n",
       "      <td>4982.0</td>\n",
       "      <td>sell</td>\n",
       "      <td>0.1100</td>\n",
       "      <td>-0.089407</td>\n",
       "    </tr>\n",
       "    <tr>\n",
       "      <th>6865</th>\n",
       "      <td>2024-09-10 13:00:00</td>\n",
       "      <td>143.038</td>\n",
       "      <td>143.094</td>\n",
       "      <td>143.038</td>\n",
       "      <td>143.072</td>\n",
       "      <td>773.0</td>\n",
       "      <td>sell</td>\n",
       "      <td>0.0280</td>\n",
       "      <td>0.023770</td>\n",
       "    </tr>\n",
       "  </tbody>\n",
       "</table>\n",
       "</div>"
      ],
      "text/plain": [
       "                     Date     Open     High      Low    close  Volume  \\\n",
       "6861  2024-09-10 12:00:00  143.159  143.184  143.010  143.047  4155.0   \n",
       "6862  2024-09-10 12:15:00  143.047  143.148  143.027  143.144  4524.0   \n",
       "6863  2024-09-10 12:30:00  143.144  143.213  143.135  143.166  3393.0   \n",
       "6864  2024-09-10 12:45:00  143.166  143.170  142.950  143.038  4982.0   \n",
       "6865  2024-09-10 13:00:00  143.038  143.094  143.038  143.072   773.0   \n",
       "\n",
       "     Order_Type  Bid/Ask_Spread  Log_Return  \n",
       "6861       sell          0.0870   -0.078235  \n",
       "6862       sell          0.0605    0.067810  \n",
       "6863       sell          0.0390    0.015369  \n",
       "6864       sell          0.1100   -0.089407  \n",
       "6865       sell          0.0280    0.023770  "
      ]
     },
     "execution_count": 122,
     "metadata": {},
     "output_type": "execute_result"
    }
   ],
   "source": [
    "df.tail()"
   ]
  },
  {
   "cell_type": "code",
   "execution_count": 125,
   "id": "fd33c79a-f61e-4da0-a1c0-45a4b61b7da4",
   "metadata": {
    "canvas": {
     "comments": [],
     "componentType": "CodeCell",
     "copiedOriginId": null,
     "diskcache": false,
     "headerColor": "transparent",
     "id": "79e76faf-4324-495b-815c-ee7f29396bf2",
     "isComponent": false,
     "name": "",
     "parents": []
    }
   },
   "outputs": [],
   "source": [
    "df['Squared_Returns'] = df['Log_Return'] ** 2"
   ]
  },
  {
   "cell_type": "code",
   "execution_count": 126,
   "id": "c4f32588-d3ed-4126-858b-51cc79eeca4f",
   "metadata": {
    "canvas": {
     "comments": [],
     "componentType": "CodeCell",
     "copiedOriginId": null,
     "diskcache": false,
     "headerColor": "transparent",
     "id": "1b29222a-559e-40e8-8319-a8b630576ff5",
     "isComponent": false,
     "name": "",
     "parents": []
    }
   },
   "outputs": [
    {
     "data": {
      "text/html": [
       "<div>\n",
       "<style scoped>\n",
       "    .dataframe tbody tr th:only-of-type {\n",
       "        vertical-align: middle;\n",
       "    }\n",
       "\n",
       "    .dataframe tbody tr th {\n",
       "        vertical-align: top;\n",
       "    }\n",
       "\n",
       "    .dataframe thead th {\n",
       "        text-align: right;\n",
       "    }\n",
       "</style>\n",
       "<table border=\"1\" class=\"dataframe\">\n",
       "  <thead>\n",
       "    <tr style=\"text-align: right;\">\n",
       "      <th></th>\n",
       "      <th>Date</th>\n",
       "      <th>Open</th>\n",
       "      <th>High</th>\n",
       "      <th>Low</th>\n",
       "      <th>close</th>\n",
       "      <th>Volume</th>\n",
       "      <th>Order_Type</th>\n",
       "      <th>Bid/Ask_Spread</th>\n",
       "      <th>Log_Return</th>\n",
       "      <th>Squared_Returns</th>\n",
       "    </tr>\n",
       "  </thead>\n",
       "  <tbody>\n",
       "    <tr>\n",
       "      <th>0</th>\n",
       "      <td>2024-06-02 23:00:00</td>\n",
       "      <td>157.267</td>\n",
       "      <td>157.267</td>\n",
       "      <td>157.161</td>\n",
       "      <td>157.167</td>\n",
       "      <td>151.0</td>\n",
       "      <td>sell</td>\n",
       "      <td>0.053</td>\n",
       "      <td>NaN</td>\n",
       "      <td>NaN</td>\n",
       "    </tr>\n",
       "    <tr>\n",
       "      <th>1</th>\n",
       "      <td>2024-06-02 23:15:00</td>\n",
       "      <td>157.167</td>\n",
       "      <td>157.219</td>\n",
       "      <td>157.167</td>\n",
       "      <td>157.203</td>\n",
       "      <td>235.0</td>\n",
       "      <td>sell</td>\n",
       "      <td>0.026</td>\n",
       "      <td>0.022906</td>\n",
       "      <td>0.000525</td>\n",
       "    </tr>\n",
       "    <tr>\n",
       "      <th>2</th>\n",
       "      <td>2024-06-02 23:30:00</td>\n",
       "      <td>157.203</td>\n",
       "      <td>157.208</td>\n",
       "      <td>157.144</td>\n",
       "      <td>157.154</td>\n",
       "      <td>355.0</td>\n",
       "      <td>sell</td>\n",
       "      <td>0.032</td>\n",
       "      <td>-0.031170</td>\n",
       "      <td>0.000972</td>\n",
       "    </tr>\n",
       "    <tr>\n",
       "      <th>3</th>\n",
       "      <td>2024-06-02 23:45:00</td>\n",
       "      <td>157.154</td>\n",
       "      <td>157.229</td>\n",
       "      <td>157.145</td>\n",
       "      <td>157.171</td>\n",
       "      <td>253.0</td>\n",
       "      <td>sell</td>\n",
       "      <td>0.042</td>\n",
       "      <td>0.010817</td>\n",
       "      <td>0.000117</td>\n",
       "    </tr>\n",
       "    <tr>\n",
       "      <th>4</th>\n",
       "      <td>2024-06-03 00:00:00</td>\n",
       "      <td>157.171</td>\n",
       "      <td>157.297</td>\n",
       "      <td>157.149</td>\n",
       "      <td>157.274</td>\n",
       "      <td>838.0</td>\n",
       "      <td>sell</td>\n",
       "      <td>0.074</td>\n",
       "      <td>0.065534</td>\n",
       "      <td>0.004295</td>\n",
       "    </tr>\n",
       "  </tbody>\n",
       "</table>\n",
       "</div>"
      ],
      "text/plain": [
       "                  Date     Open     High      Low    close  Volume Order_Type  \\\n",
       "0  2024-06-02 23:00:00  157.267  157.267  157.161  157.167   151.0       sell   \n",
       "1  2024-06-02 23:15:00  157.167  157.219  157.167  157.203   235.0       sell   \n",
       "2  2024-06-02 23:30:00  157.203  157.208  157.144  157.154   355.0       sell   \n",
       "3  2024-06-02 23:45:00  157.154  157.229  157.145  157.171   253.0       sell   \n",
       "4  2024-06-03 00:00:00  157.171  157.297  157.149  157.274   838.0       sell   \n",
       "\n",
       "   Bid/Ask_Spread  Log_Return  Squared_Returns  \n",
       "0           0.053         NaN              NaN  \n",
       "1           0.026    0.022906         0.000525  \n",
       "2           0.032   -0.031170         0.000972  \n",
       "3           0.042    0.010817         0.000117  \n",
       "4           0.074    0.065534         0.004295  "
      ]
     },
     "execution_count": 126,
     "metadata": {},
     "output_type": "execute_result"
    }
   ],
   "source": [
    "df.head()"
   ]
  },
  {
   "cell_type": "code",
   "execution_count": 127,
   "id": "309282a5-78b8-40ed-a2cf-4c2b3113f540",
   "metadata": {
    "canvas": {
     "comments": [],
     "componentType": "CodeCell",
     "copiedOriginId": null,
     "diskcache": false,
     "headerColor": "transparent",
     "id": "7e3f16bf-9120-4b33-9ddf-a83fade2724d",
     "isComponent": false,
     "name": "",
     "parents": []
    }
   },
   "outputs": [],
   "source": [
    "# side note :\n",
    "\n",
    "# By applying a square root transformation to returns, particularly in cases where returns are not normally distributed \n",
    "# or exhibit heteroscedasticity (varying variance), the transformation can help stabilize the variance."
   ]
  },
  {
   "cell_type": "markdown",
   "id": "6b51c46f-0596-4ce9-905f-149cb4790cd6",
   "metadata": {
    "canvas": {
     "comments": [],
     "componentType": "CodeCell",
     "copiedOriginId": null,
     "diskcache": false,
     "headerColor": "transparent",
     "id": "98086250-afe8-497c-a650-9781f8b1d48f",
     "isComponent": false,
     "name": "",
     "parents": []
    }
   },
   "source": [
    "## *Summary Statistics with pandas*"
   ]
  },
  {
   "cell_type": "code",
   "execution_count": 129,
   "id": "a4e58944-3ac9-4c3f-9917-4b333eb5e932",
   "metadata": {
    "canvas": {
     "comments": [],
     "componentType": "CodeCell",
     "copiedOriginId": null,
     "diskcache": false,
     "headerColor": "transparent",
     "id": "784dcdec-2704-4cf6-b751-f75389700a3c",
     "isComponent": false,
     "name": "",
     "parents": []
    }
   },
   "outputs": [
    {
     "data": {
      "text/html": [
       "<div>\n",
       "<style scoped>\n",
       "    .dataframe tbody tr th:only-of-type {\n",
       "        vertical-align: middle;\n",
       "    }\n",
       "\n",
       "    .dataframe tbody tr th {\n",
       "        vertical-align: top;\n",
       "    }\n",
       "\n",
       "    .dataframe thead th {\n",
       "        text-align: right;\n",
       "    }\n",
       "</style>\n",
       "<table border=\"1\" class=\"dataframe\">\n",
       "  <thead>\n",
       "    <tr style=\"text-align: right;\">\n",
       "      <th></th>\n",
       "      <th>Date</th>\n",
       "      <th>Open</th>\n",
       "      <th>High</th>\n",
       "      <th>Low</th>\n",
       "      <th>close</th>\n",
       "      <th>Volume</th>\n",
       "      <th>Order_Type</th>\n",
       "      <th>Bid/Ask_Spread</th>\n",
       "      <th>Log_Return</th>\n",
       "      <th>Squared_Returns</th>\n",
       "    </tr>\n",
       "  </thead>\n",
       "  <tbody>\n",
       "    <tr>\n",
       "      <th>0</th>\n",
       "      <td>2024-06-02 23:00:00</td>\n",
       "      <td>157.267</td>\n",
       "      <td>157.267</td>\n",
       "      <td>157.161</td>\n",
       "      <td>157.167</td>\n",
       "      <td>151.0</td>\n",
       "      <td>sell</td>\n",
       "      <td>0.053</td>\n",
       "      <td>NaN</td>\n",
       "      <td>NaN</td>\n",
       "    </tr>\n",
       "    <tr>\n",
       "      <th>1</th>\n",
       "      <td>2024-06-02 23:15:00</td>\n",
       "      <td>157.167</td>\n",
       "      <td>157.219</td>\n",
       "      <td>157.167</td>\n",
       "      <td>157.203</td>\n",
       "      <td>235.0</td>\n",
       "      <td>sell</td>\n",
       "      <td>0.026</td>\n",
       "      <td>0.022906</td>\n",
       "      <td>0.000525</td>\n",
       "    </tr>\n",
       "    <tr>\n",
       "      <th>2</th>\n",
       "      <td>2024-06-02 23:30:00</td>\n",
       "      <td>157.203</td>\n",
       "      <td>157.208</td>\n",
       "      <td>157.144</td>\n",
       "      <td>157.154</td>\n",
       "      <td>355.0</td>\n",
       "      <td>sell</td>\n",
       "      <td>0.032</td>\n",
       "      <td>-0.031170</td>\n",
       "      <td>0.000972</td>\n",
       "    </tr>\n",
       "    <tr>\n",
       "      <th>3</th>\n",
       "      <td>2024-06-02 23:45:00</td>\n",
       "      <td>157.154</td>\n",
       "      <td>157.229</td>\n",
       "      <td>157.145</td>\n",
       "      <td>157.171</td>\n",
       "      <td>253.0</td>\n",
       "      <td>sell</td>\n",
       "      <td>0.042</td>\n",
       "      <td>0.010817</td>\n",
       "      <td>0.000117</td>\n",
       "    </tr>\n",
       "    <tr>\n",
       "      <th>4</th>\n",
       "      <td>2024-06-03 00:00:00</td>\n",
       "      <td>157.171</td>\n",
       "      <td>157.297</td>\n",
       "      <td>157.149</td>\n",
       "      <td>157.274</td>\n",
       "      <td>838.0</td>\n",
       "      <td>sell</td>\n",
       "      <td>0.074</td>\n",
       "      <td>0.065534</td>\n",
       "      <td>0.004295</td>\n",
       "    </tr>\n",
       "  </tbody>\n",
       "</table>\n",
       "</div>"
      ],
      "text/plain": [
       "                  Date     Open     High      Low    close  Volume Order_Type  \\\n",
       "0  2024-06-02 23:00:00  157.267  157.267  157.161  157.167   151.0       sell   \n",
       "1  2024-06-02 23:15:00  157.167  157.219  157.167  157.203   235.0       sell   \n",
       "2  2024-06-02 23:30:00  157.203  157.208  157.144  157.154   355.0       sell   \n",
       "3  2024-06-02 23:45:00  157.154  157.229  157.145  157.171   253.0       sell   \n",
       "4  2024-06-03 00:00:00  157.171  157.297  157.149  157.274   838.0       sell   \n",
       "\n",
       "   Bid/Ask_Spread  Log_Return  Squared_Returns  \n",
       "0           0.053         NaN              NaN  \n",
       "1           0.026    0.022906         0.000525  \n",
       "2           0.032   -0.031170         0.000972  \n",
       "3           0.042    0.010817         0.000117  \n",
       "4           0.074    0.065534         0.004295  "
      ]
     },
     "execution_count": 129,
     "metadata": {},
     "output_type": "execute_result"
    }
   ],
   "source": [
    "# sumarizing numerical data\n",
    "\n",
    "df.head()"
   ]
  },
  {
   "cell_type": "code",
   "execution_count": 130,
   "id": "043a8ca8-62d6-47b5-bff2-dd1a1438dd5a",
   "metadata": {
    "canvas": {
     "comments": [],
     "componentType": "CodeCell",
     "copiedOriginId": null,
     "diskcache": false,
     "headerColor": "transparent",
     "id": "060ce7eb-b799-4e6c-8e1f-e083f13ec556",
     "isComponent": false,
     "name": "",
     "parents": []
    }
   },
   "outputs": [
    {
     "data": {
      "text/plain": [
       "0.0713066559860182"
      ]
     },
     "execution_count": 130,
     "metadata": {},
     "output_type": "execute_result"
    }
   ],
   "source": [
    "df['Bid/Ask_Spread'].mean()"
   ]
  },
  {
   "cell_type": "code",
   "execution_count": 131,
   "id": "2e5c44f7-343a-4f06-a202-32a4a5e5b76b",
   "metadata": {
    "canvas": {
     "comments": [],
     "componentType": "CodeCell",
     "copiedOriginId": null,
     "diskcache": false,
     "headerColor": "transparent",
     "id": "7106f5ad-8af6-40df-b309-c11d3a90bdb7",
     "isComponent": false,
     "name": "",
     "parents": []
    }
   },
   "outputs": [
    {
     "data": {
      "text/plain": [
       "0    0.027\n",
       "Name: Bid/Ask_Spread, dtype: float64"
      ]
     },
     "execution_count": 131,
     "metadata": {},
     "output_type": "execute_result"
    }
   ],
   "source": [
    "df['Bid/Ask_Spread'].mode()"
   ]
  },
  {
   "cell_type": "code",
   "execution_count": 132,
   "id": "17f01031-93bf-45d9-b890-9e20602e9975",
   "metadata": {
    "canvas": {
     "comments": [],
     "componentType": "CodeCell",
     "copiedOriginId": null,
     "diskcache": false,
     "headerColor": "transparent",
     "id": "42bba23a-7b72-4eb0-8bc2-30b88e12f1e1",
     "isComponent": false,
     "name": "",
     "parents": []
    }
   },
   "outputs": [
    {
     "data": {
      "text/plain": [
       "0.005197106276157533"
      ]
     },
     "execution_count": 132,
     "metadata": {},
     "output_type": "execute_result"
    }
   ],
   "source": [
    "df['Bid/Ask_Spread'].var()"
   ]
  },
  {
   "cell_type": "code",
   "execution_count": 133,
   "id": "77963054-d8f2-4af3-a3ce-756dd0df487e",
   "metadata": {
    "canvas": {
     "comments": [],
     "componentType": "CodeCell",
     "copiedOriginId": null,
     "diskcache": false,
     "headerColor": "transparent",
     "id": "e8725b47-db00-45d3-a83c-62332a1f3b37",
     "isComponent": false,
     "name": "",
     "parents": []
    }
   },
   "outputs": [
    {
     "data": {
      "text/plain": [
       "0.07209095835233108"
      ]
     },
     "execution_count": 133,
     "metadata": {},
     "output_type": "execute_result"
    }
   ],
   "source": [
    "df['Bid/Ask_Spread'].std()"
   ]
  },
  {
   "cell_type": "code",
   "execution_count": 134,
   "id": "f8735076-0b6e-4cb0-b1a0-4afd0fcbc176",
   "metadata": {
    "canvas": {
     "comments": [],
     "componentType": "CodeCell",
     "copiedOriginId": null,
     "diskcache": false,
     "headerColor": "transparent",
     "id": "a776c0a1-b786-48ed-a3a6-92d6736abbc1",
     "isComponent": false,
     "name": "",
     "parents": []
    }
   },
   "outputs": [
    {
     "data": {
      "text/plain": [
       "1.5394999999999897"
      ]
     },
     "execution_count": 134,
     "metadata": {},
     "output_type": "execute_result"
    }
   ],
   "source": [
    "df['Bid/Ask_Spread'].max()"
   ]
  },
  {
   "cell_type": "code",
   "execution_count": 135,
   "id": "96df123c-6e33-4c2d-b69e-3f27f5d4a6fd",
   "metadata": {
    "canvas": {
     "comments": [],
     "componentType": "CodeCell",
     "copiedOriginId": null,
     "diskcache": false,
     "headerColor": "transparent",
     "id": "6fff133e-efc8-4590-83ee-a72f1dd8c50e",
     "isComponent": false,
     "name": "",
     "parents": []
    }
   },
   "outputs": [
    {
     "data": {
      "text/plain": [
       "0.0015000000000071623"
      ]
     },
     "execution_count": 135,
     "metadata": {},
     "output_type": "execute_result"
    }
   ],
   "source": [
    "df['Bid/Ask_Spread'].min()"
   ]
  },
  {
   "cell_type": "code",
   "execution_count": 137,
   "id": "a6eec428-f226-4edb-9b1c-dc0a582cb293",
   "metadata": {
    "canvas": {
     "comments": [],
     "componentType": "CodeCell",
     "copiedOriginId": null,
     "diskcache": false,
     "headerColor": "transparent",
     "id": "a41637a6-4892-454a-ab95-44f32794fbef",
     "isComponent": false,
     "name": "",
     "parents": []
    }
   },
   "outputs": [
    {
     "data": {
      "text/plain": [
       "0.05299999999999727"
      ]
     },
     "execution_count": 137,
     "metadata": {},
     "output_type": "execute_result"
    }
   ],
   "source": [
    "df['Bid/Ask_Spread'].quantile()"
   ]
  },
  {
   "cell_type": "code",
   "execution_count": 138,
   "id": "1170f756-6981-4ddf-b111-0318c25c0b56",
   "metadata": {
    "canvas": {
     "comments": [],
     "componentType": "CodeCell",
     "copiedOriginId": null,
     "diskcache": false,
     "headerColor": "transparent",
     "id": "238acb37-c317-4382-b0b3-6b21766e8de5",
     "isComponent": false,
     "name": "",
     "parents": []
    }
   },
   "outputs": [
    {
     "data": {
      "text/plain": [
       "'2024-06-02 23:00:00'"
      ]
     },
     "execution_count": 138,
     "metadata": {},
     "output_type": "execute_result"
    }
   ],
   "source": [
    "# summarizing dates\n",
    "\n",
    "df['Date'].min()"
   ]
  },
  {
   "cell_type": "code",
   "execution_count": 139,
   "id": "3ffdb48c-53a0-41b6-b08f-535bb7d3d191",
   "metadata": {
    "canvas": {
     "comments": [],
     "componentType": "CodeCell",
     "copiedOriginId": null,
     "diskcache": false,
     "headerColor": "transparent",
     "id": "c0e24205-7542-4adc-ba6c-638f5277519e",
     "isComponent": false,
     "name": "",
     "parents": []
    }
   },
   "outputs": [
    {
     "data": {
      "text/plain": [
       "'2024-09-10 13:00:00'"
      ]
     },
     "execution_count": 139,
     "metadata": {},
     "output_type": "execute_result"
    }
   ],
   "source": [
    "df['Date'].max()"
   ]
  },
  {
   "cell_type": "code",
   "execution_count": 145,
   "id": "e5b87dee-58b3-474c-a1ad-1828a62c9f96",
   "metadata": {
    "canvas": {
     "comments": [],
     "componentType": "CodeCell",
     "copiedOriginId": null,
     "diskcache": false,
     "headerColor": "transparent",
     "id": "84038350-193a-4aa3-9c2c-37834acaf26d",
     "isComponent": false,
     "name": "",
     "parents": []
    }
   },
   "outputs": [],
   "source": [
    "# agg method to map a a function onto specified column/rows\n",
    "\n",
    "def pct30(column):\n",
    "    return column.quantile(0.3)"
   ]
  },
  {
   "cell_type": "code",
   "execution_count": 146,
   "id": "d93090d3-aeab-4457-8a6a-39f3a41e9cd6",
   "metadata": {
    "canvas": {
     "comments": [],
     "componentType": "CodeCell",
     "copiedOriginId": null,
     "diskcache": false,
     "headerColor": "transparent",
     "id": "69d912af-97ce-4b9a-8ebb-54ec766de3b3",
     "isComponent": false,
     "name": "",
     "parents": []
    }
   },
   "outputs": [],
   "source": [
    "def pct80(column):\n",
    "    return column.quantile(0.8)"
   ]
  },
  {
   "cell_type": "code",
   "execution_count": 147,
   "id": "450b1957-c7ad-4036-b99b-6d05d2125211",
   "metadata": {
    "canvas": {
     "comments": [],
     "componentType": "CodeCell",
     "copiedOriginId": null,
     "diskcache": false,
     "headerColor": "transparent",
     "id": "2b805cfb-d2c4-43fe-8747-5b48399f9a5d",
     "isComponent": false,
     "name": "",
     "parents": []
    }
   },
   "outputs": [
    {
     "data": {
      "text/plain": [
       "pct30    147.0635\n",
       "pct80    159.1190\n",
       "Name: close, dtype: float64"
      ]
     },
     "execution_count": 147,
     "metadata": {},
     "output_type": "execute_result"
    }
   ],
   "source": [
    "\n",
    "df['close'].agg([pct30 , pct80])"
   ]
  },
  {
   "cell_type": "code",
   "execution_count": 153,
   "id": "35dc0b8c-001e-4d51-a07c-41415846a3fa",
   "metadata": {
    "canvas": {
     "comments": [],
     "componentType": "CodeCell",
     "copiedOriginId": null,
     "diskcache": false,
     "headerColor": "transparent",
     "id": "95f615bd-f985-4813-9434-aca51169cddb",
     "isComponent": false,
     "name": "",
     "parents": []
    }
   },
   "outputs": [
    {
     "data": {
      "text/plain": [
       "0            151.0\n",
       "1            386.0\n",
       "2            741.0\n",
       "3            994.0\n",
       "4           1832.0\n",
       "           ...    \n",
       "6861    32520591.0\n",
       "6862    32525115.0\n",
       "6863    32528508.0\n",
       "6864    32533490.0\n",
       "6865    32534263.0\n",
       "Name: Volume, Length: 6866, dtype: float64"
      ]
     },
     "execution_count": 153,
     "metadata": {},
     "output_type": "execute_result"
    }
   ],
   "source": [
    "# cumulative sum\n",
    "\n",
    "cum_sum = df['Volume'].cumsum()\n",
    "cum_sum"
   ]
  },
  {
   "cell_type": "code",
   "execution_count": null,
   "id": "cd5abe0e-0a75-4a8f-8b41-3e7ef0150f66",
   "metadata": {
    "canvas": {
     "comments": [],
     "componentType": "CodeCell",
     "copiedOriginId": null,
     "diskcache": false,
     "headerColor": "transparent",
     "id": "2cd57c67-1584-48aa-a960-78cd47c7a6c0",
     "isComponent": false,
     "name": "",
     "parents": []
    }
   },
   "outputs": [],
   "source": [
    "# additionally there are other cumulative stats like :    .cummax , cummin , cumprod"
   ]
  },
  {
   "cell_type": "markdown",
   "id": "902809a1-a9e7-487c-b1cd-23ec50d425e7",
   "metadata": {
    "canvas": {
     "comments": [],
     "componentType": "CodeCell",
     "copiedOriginId": null,
     "diskcache": false,
     "headerColor": "transparent",
     "id": "3cf10bca-baf1-4315-ad90-2ef8ecb402bf",
     "isComponent": false,
     "name": "",
     "parents": []
    }
   },
   "source": [
    "## *Counting*"
   ]
  },
  {
   "cell_type": "code",
   "execution_count": null,
   "id": "c77fe2c1-09e7-4b32-8076-25c5c7565813",
   "metadata": {
    "canvas": {
     "comments": [],
     "componentType": "CodeCell",
     "copiedOriginId": null,
     "diskcache": false,
     "headerColor": "transparent",
     "id": "41747546-e820-4f96-944f-3bbad787712c",
     "isComponent": false,
     "name": "",
     "parents": []
    }
   },
   "outputs": [],
   "source": []
  },
  {
   "cell_type": "code",
   "execution_count": 11,
   "id": "d6455c99-6efe-4d9e-8d8b-f63178a3490a",
   "metadata": {
    "canvas": {
     "comments": [],
     "componentType": "CodeCell",
     "copiedOriginId": null,
     "diskcache": false,
     "headerColor": "transparent",
     "id": "62687885-dbee-4345-987c-3415b4b101c2",
     "isComponent": false,
     "name": "",
     "parents": []
    }
   },
   "outputs": [],
   "source": [
    "# For this example i will use Faker for fake data generation for the DataFrame\n"
   ]
  },
  {
   "cell_type": "code",
   "execution_count": 25,
   "id": "b7a6c060-450a-47bf-8839-0890f315ea2e",
   "metadata": {
    "canvas": {
     "comments": [],
     "componentType": "CodeCell",
     "copiedOriginId": null,
     "diskcache": false,
     "headerColor": "transparent",
     "id": "c9d4e3e6-b11d-46dc-953e-e49b5c01bbf7",
     "isComponent": false,
     "name": "",
     "parents": []
    }
   },
   "outputs": [
    {
     "data": {
      "text/html": [
       "<div>\n",
       "<style scoped>\n",
       "    .dataframe tbody tr th:only-of-type {\n",
       "        vertical-align: middle;\n",
       "    }\n",
       "\n",
       "    .dataframe tbody tr th {\n",
       "        vertical-align: top;\n",
       "    }\n",
       "\n",
       "    .dataframe thead th {\n",
       "        text-align: right;\n",
       "    }\n",
       "</style>\n",
       "<table border=\"1\" class=\"dataframe\">\n",
       "  <thead>\n",
       "    <tr style=\"text-align: right;\">\n",
       "      <th></th>\n",
       "      <th>Ticker</th>\n",
       "      <th>Company Name</th>\n",
       "      <th>Exchange</th>\n",
       "      <th>Last Price</th>\n",
       "      <th>Market Cap</th>\n",
       "      <th>P/E Ratio</th>\n",
       "      <th>Dividend Yield (%)</th>\n",
       "      <th>EPS</th>\n",
       "      <th>Volume</th>\n",
       "      <th>Beta</th>\n",
       "    </tr>\n",
       "  </thead>\n",
       "  <tbody>\n",
       "    <tr>\n",
       "      <th>0</th>\n",
       "      <td>GOOGL</td>\n",
       "      <td>Hogan-Mccullough</td>\n",
       "      <td>NYSE</td>\n",
       "      <td>1236.426034</td>\n",
       "      <td>770056219072</td>\n",
       "      <td>8.868341</td>\n",
       "      <td>3.690682</td>\n",
       "      <td>7.069619</td>\n",
       "      <td>6542456</td>\n",
       "      <td>0.936827</td>\n",
       "    </tr>\n",
       "    <tr>\n",
       "      <th>1</th>\n",
       "      <td>AMZN</td>\n",
       "      <td>Baker and Sons</td>\n",
       "      <td>NYSE</td>\n",
       "      <td>773.873359</td>\n",
       "      <td>584217423307</td>\n",
       "      <td>32.676797</td>\n",
       "      <td>3.708999</td>\n",
       "      <td>16.158544</td>\n",
       "      <td>7499712</td>\n",
       "      <td>1.526390</td>\n",
       "    </tr>\n",
       "    <tr>\n",
       "      <th>2</th>\n",
       "      <td>AAPL</td>\n",
       "      <td>Parsons-Lewis</td>\n",
       "      <td>NASDAQ</td>\n",
       "      <td>514.085390</td>\n",
       "      <td>1452189357447</td>\n",
       "      <td>20.347675</td>\n",
       "      <td>2.811100</td>\n",
       "      <td>8.002927</td>\n",
       "      <td>7000831</td>\n",
       "      <td>0.990580</td>\n",
       "    </tr>\n",
       "    <tr>\n",
       "      <th>3</th>\n",
       "      <td>AMZN</td>\n",
       "      <td>Coleman Ltd</td>\n",
       "      <td>NYSE</td>\n",
       "      <td>751.660731</td>\n",
       "      <td>115086861462</td>\n",
       "      <td>45.991582</td>\n",
       "      <td>0.196679</td>\n",
       "      <td>3.719283</td>\n",
       "      <td>3703712</td>\n",
       "      <td>0.569198</td>\n",
       "    </tr>\n",
       "    <tr>\n",
       "      <th>4</th>\n",
       "      <td>AMZN</td>\n",
       "      <td>Moore and Sons</td>\n",
       "      <td>NASDAQ</td>\n",
       "      <td>489.912162</td>\n",
       "      <td>1440069972190</td>\n",
       "      <td>15.868198</td>\n",
       "      <td>0.768755</td>\n",
       "      <td>7.841239</td>\n",
       "      <td>5653412</td>\n",
       "      <td>0.512189</td>\n",
       "    </tr>\n",
       "    <tr>\n",
       "      <th>5</th>\n",
       "      <td>GOOGL</td>\n",
       "      <td>Wilkins-Jordan</td>\n",
       "      <td>NYSE</td>\n",
       "      <td>1270.673360</td>\n",
       "      <td>1788983406494</td>\n",
       "      <td>14.646331</td>\n",
       "      <td>2.850187</td>\n",
       "      <td>5.255862</td>\n",
       "      <td>7057742</td>\n",
       "      <td>0.563434</td>\n",
       "    </tr>\n",
       "    <tr>\n",
       "      <th>6</th>\n",
       "      <td>AMZN</td>\n",
       "      <td>Chandler LLC</td>\n",
       "      <td>NASDAQ</td>\n",
       "      <td>1903.710443</td>\n",
       "      <td>1140191333902</td>\n",
       "      <td>34.914300</td>\n",
       "      <td>4.628766</td>\n",
       "      <td>19.888561</td>\n",
       "      <td>9978979</td>\n",
       "      <td>1.165563</td>\n",
       "    </tr>\n",
       "    <tr>\n",
       "      <th>7</th>\n",
       "      <td>MSFT</td>\n",
       "      <td>Anthony-Williamson</td>\n",
       "      <td>NASDAQ</td>\n",
       "      <td>518.670600</td>\n",
       "      <td>857094529847</td>\n",
       "      <td>29.114335</td>\n",
       "      <td>2.525364</td>\n",
       "      <td>18.371537</td>\n",
       "      <td>3185133</td>\n",
       "      <td>1.859365</td>\n",
       "    </tr>\n",
       "    <tr>\n",
       "      <th>8</th>\n",
       "      <td>GOOGL</td>\n",
       "      <td>Smith and Sons</td>\n",
       "      <td>NASDAQ</td>\n",
       "      <td>1338.228106</td>\n",
       "      <td>26687150982</td>\n",
       "      <td>26.296906</td>\n",
       "      <td>1.433891</td>\n",
       "      <td>14.382955</td>\n",
       "      <td>1133346</td>\n",
       "      <td>1.396049</td>\n",
       "    </tr>\n",
       "    <tr>\n",
       "      <th>9</th>\n",
       "      <td>TSLA</td>\n",
       "      <td>Jones Inc</td>\n",
       "      <td>NYSE</td>\n",
       "      <td>1059.950974</td>\n",
       "      <td>210788355381</td>\n",
       "      <td>11.526021</td>\n",
       "      <td>0.133270</td>\n",
       "      <td>14.981695</td>\n",
       "      <td>4585351</td>\n",
       "      <td>1.750241</td>\n",
       "    </tr>\n",
       "    <tr>\n",
       "      <th>10</th>\n",
       "      <td>GOOGL</td>\n",
       "      <td>Briggs and Sons</td>\n",
       "      <td>NASDAQ</td>\n",
       "      <td>319.284950</td>\n",
       "      <td>479715566915</td>\n",
       "      <td>45.171594</td>\n",
       "      <td>4.239481</td>\n",
       "      <td>1.590826</td>\n",
       "      <td>6114048</td>\n",
       "      <td>0.770155</td>\n",
       "    </tr>\n",
       "    <tr>\n",
       "      <th>11</th>\n",
       "      <td>AMZN</td>\n",
       "      <td>Lewis, Larsen and Ayers</td>\n",
       "      <td>NYSE</td>\n",
       "      <td>183.563260</td>\n",
       "      <td>1300332216960</td>\n",
       "      <td>41.323051</td>\n",
       "      <td>3.751818</td>\n",
       "      <td>7.988204</td>\n",
       "      <td>9026831</td>\n",
       "      <td>1.528651</td>\n",
       "    </tr>\n",
       "    <tr>\n",
       "      <th>12</th>\n",
       "      <td>MSFT</td>\n",
       "      <td>Ramos, Bailey and Waters</td>\n",
       "      <td>NASDAQ</td>\n",
       "      <td>1865.199946</td>\n",
       "      <td>267427841559</td>\n",
       "      <td>44.867137</td>\n",
       "      <td>2.219861</td>\n",
       "      <td>12.078565</td>\n",
       "      <td>9144657</td>\n",
       "      <td>1.065279</td>\n",
       "    </tr>\n",
       "    <tr>\n",
       "      <th>13</th>\n",
       "      <td>MSFT</td>\n",
       "      <td>Thomas PLC</td>\n",
       "      <td>NYSE</td>\n",
       "      <td>1323.978190</td>\n",
       "      <td>1182241444608</td>\n",
       "      <td>46.647266</td>\n",
       "      <td>3.248473</td>\n",
       "      <td>2.837527</td>\n",
       "      <td>5777724</td>\n",
       "      <td>0.538328</td>\n",
       "    </tr>\n",
       "    <tr>\n",
       "      <th>14</th>\n",
       "      <td>AAPL</td>\n",
       "      <td>Bowers-Brewer</td>\n",
       "      <td>NYSE</td>\n",
       "      <td>774.133823</td>\n",
       "      <td>55911952610</td>\n",
       "      <td>45.446412</td>\n",
       "      <td>4.397987</td>\n",
       "      <td>7.372043</td>\n",
       "      <td>5494997</td>\n",
       "      <td>1.385542</td>\n",
       "    </tr>\n",
       "    <tr>\n",
       "      <th>15</th>\n",
       "      <td>MSFT</td>\n",
       "      <td>Drake, Franklin and White</td>\n",
       "      <td>NASDAQ</td>\n",
       "      <td>1107.153850</td>\n",
       "      <td>281701713810</td>\n",
       "      <td>10.897344</td>\n",
       "      <td>1.889355</td>\n",
       "      <td>16.443353</td>\n",
       "      <td>2510688</td>\n",
       "      <td>0.889243</td>\n",
       "    </tr>\n",
       "    <tr>\n",
       "      <th>16</th>\n",
       "      <td>TSLA</td>\n",
       "      <td>Hicks, Pacheco and Ward</td>\n",
       "      <td>NASDAQ</td>\n",
       "      <td>1383.838852</td>\n",
       "      <td>1223055668933</td>\n",
       "      <td>21.219839</td>\n",
       "      <td>3.773612</td>\n",
       "      <td>16.048357</td>\n",
       "      <td>3354440</td>\n",
       "      <td>1.065689</td>\n",
       "    </tr>\n",
       "    <tr>\n",
       "      <th>17</th>\n",
       "      <td>AMZN</td>\n",
       "      <td>Williams, Burke and Hill</td>\n",
       "      <td>NYSE</td>\n",
       "      <td>1214.487696</td>\n",
       "      <td>1128404828340</td>\n",
       "      <td>39.044142</td>\n",
       "      <td>1.851208</td>\n",
       "      <td>2.403128</td>\n",
       "      <td>4334487</td>\n",
       "      <td>1.656933</td>\n",
       "    </tr>\n",
       "    <tr>\n",
       "      <th>18</th>\n",
       "      <td>AMZN</td>\n",
       "      <td>Everett, Jones and Richardson</td>\n",
       "      <td>NASDAQ</td>\n",
       "      <td>971.053825</td>\n",
       "      <td>14858365759</td>\n",
       "      <td>40.631282</td>\n",
       "      <td>2.437753</td>\n",
       "      <td>18.464172</td>\n",
       "      <td>5605224</td>\n",
       "      <td>1.436313</td>\n",
       "    </tr>\n",
       "    <tr>\n",
       "      <th>19</th>\n",
       "      <td>MSFT</td>\n",
       "      <td>Noble-Nelson</td>\n",
       "      <td>NASDAQ</td>\n",
       "      <td>1929.109774</td>\n",
       "      <td>658224866069</td>\n",
       "      <td>35.893402</td>\n",
       "      <td>3.748978</td>\n",
       "      <td>15.647212</td>\n",
       "      <td>7567803</td>\n",
       "      <td>1.622520</td>\n",
       "    </tr>\n",
       "    <tr>\n",
       "      <th>20</th>\n",
       "      <td>GOOGL</td>\n",
       "      <td>Castillo and Sons</td>\n",
       "      <td>NASDAQ</td>\n",
       "      <td>877.685233</td>\n",
       "      <td>229398069350</td>\n",
       "      <td>27.295708</td>\n",
       "      <td>1.849060</td>\n",
       "      <td>19.000546</td>\n",
       "      <td>8955821</td>\n",
       "      <td>1.840143</td>\n",
       "    </tr>\n",
       "    <tr>\n",
       "      <th>21</th>\n",
       "      <td>AAPL</td>\n",
       "      <td>Wells, Hancock and Martinez</td>\n",
       "      <td>NYSE</td>\n",
       "      <td>729.467535</td>\n",
       "      <td>117337869581</td>\n",
       "      <td>19.005294</td>\n",
       "      <td>0.876990</td>\n",
       "      <td>7.671050</td>\n",
       "      <td>8658383</td>\n",
       "      <td>1.314604</td>\n",
       "    </tr>\n",
       "    <tr>\n",
       "      <th>22</th>\n",
       "      <td>MSFT</td>\n",
       "      <td>Schroeder-Shields</td>\n",
       "      <td>NASDAQ</td>\n",
       "      <td>1253.533345</td>\n",
       "      <td>1005519498489</td>\n",
       "      <td>12.002896</td>\n",
       "      <td>2.454573</td>\n",
       "      <td>8.518016</td>\n",
       "      <td>3716929</td>\n",
       "      <td>1.990645</td>\n",
       "    </tr>\n",
       "    <tr>\n",
       "      <th>23</th>\n",
       "      <td>TSLA</td>\n",
       "      <td>Bradley-Patterson</td>\n",
       "      <td>NASDAQ</td>\n",
       "      <td>439.119400</td>\n",
       "      <td>1446322385550</td>\n",
       "      <td>25.326694</td>\n",
       "      <td>3.978529</td>\n",
       "      <td>12.101402</td>\n",
       "      <td>7609144</td>\n",
       "      <td>1.056877</td>\n",
       "    </tr>\n",
       "    <tr>\n",
       "      <th>24</th>\n",
       "      <td>GOOGL</td>\n",
       "      <td>Mcbride LLC</td>\n",
       "      <td>NASDAQ</td>\n",
       "      <td>1632.265758</td>\n",
       "      <td>1590691185012</td>\n",
       "      <td>10.497266</td>\n",
       "      <td>2.858470</td>\n",
       "      <td>9.887589</td>\n",
       "      <td>6444919</td>\n",
       "      <td>1.253033</td>\n",
       "    </tr>\n",
       "    <tr>\n",
       "      <th>25</th>\n",
       "      <td>TSLA</td>\n",
       "      <td>Wong PLC</td>\n",
       "      <td>NYSE</td>\n",
       "      <td>1314.541230</td>\n",
       "      <td>1611414170796</td>\n",
       "      <td>23.626919</td>\n",
       "      <td>0.735692</td>\n",
       "      <td>11.035544</td>\n",
       "      <td>7370577</td>\n",
       "      <td>0.935200</td>\n",
       "    </tr>\n",
       "    <tr>\n",
       "      <th>26</th>\n",
       "      <td>AAPL</td>\n",
       "      <td>Clark Ltd</td>\n",
       "      <td>NASDAQ</td>\n",
       "      <td>177.731132</td>\n",
       "      <td>1985543966044</td>\n",
       "      <td>35.278135</td>\n",
       "      <td>4.786553</td>\n",
       "      <td>19.642791</td>\n",
       "      <td>8410931</td>\n",
       "      <td>1.681244</td>\n",
       "    </tr>\n",
       "    <tr>\n",
       "      <th>27</th>\n",
       "      <td>AAPL</td>\n",
       "      <td>Thomas-Hogan</td>\n",
       "      <td>NYSE</td>\n",
       "      <td>1633.624682</td>\n",
       "      <td>1296748436145</td>\n",
       "      <td>49.992210</td>\n",
       "      <td>2.777977</td>\n",
       "      <td>5.760047</td>\n",
       "      <td>3894797</td>\n",
       "      <td>0.721614</td>\n",
       "    </tr>\n",
       "    <tr>\n",
       "      <th>28</th>\n",
       "      <td>MSFT</td>\n",
       "      <td>Smith, Patel and Ramos</td>\n",
       "      <td>NASDAQ</td>\n",
       "      <td>972.435853</td>\n",
       "      <td>764245031569</td>\n",
       "      <td>5.243757</td>\n",
       "      <td>2.119477</td>\n",
       "      <td>17.563844</td>\n",
       "      <td>7094126</td>\n",
       "      <td>0.598135</td>\n",
       "    </tr>\n",
       "    <tr>\n",
       "      <th>29</th>\n",
       "      <td>AAPL</td>\n",
       "      <td>Palmer PLC</td>\n",
       "      <td>NYSE</td>\n",
       "      <td>314.107441</td>\n",
       "      <td>693723789359</td>\n",
       "      <td>30.920768</td>\n",
       "      <td>0.683963</td>\n",
       "      <td>19.873952</td>\n",
       "      <td>9147938</td>\n",
       "      <td>1.902126</td>\n",
       "    </tr>\n",
       "    <tr>\n",
       "      <th>30</th>\n",
       "      <td>GOOGL</td>\n",
       "      <td>Hogan-Mccullough</td>\n",
       "      <td>NYSE</td>\n",
       "      <td>1236.426034</td>\n",
       "      <td>770056219072</td>\n",
       "      <td>8.868341</td>\n",
       "      <td>3.690682</td>\n",
       "      <td>7.069619</td>\n",
       "      <td>6542456</td>\n",
       "      <td>0.936827</td>\n",
       "    </tr>\n",
       "  </tbody>\n",
       "</table>\n",
       "</div>"
      ],
      "text/plain": [
       "   Ticker                   Company Name Exchange   Last Price     Market Cap  \\\n",
       "0   GOOGL               Hogan-Mccullough     NYSE  1236.426034   770056219072   \n",
       "1    AMZN                 Baker and Sons     NYSE   773.873359   584217423307   \n",
       "2    AAPL                  Parsons-Lewis   NASDAQ   514.085390  1452189357447   \n",
       "3    AMZN                    Coleman Ltd     NYSE   751.660731   115086861462   \n",
       "4    AMZN                 Moore and Sons   NASDAQ   489.912162  1440069972190   \n",
       "5   GOOGL                 Wilkins-Jordan     NYSE  1270.673360  1788983406494   \n",
       "6    AMZN                   Chandler LLC   NASDAQ  1903.710443  1140191333902   \n",
       "7    MSFT             Anthony-Williamson   NASDAQ   518.670600   857094529847   \n",
       "8   GOOGL                 Smith and Sons   NASDAQ  1338.228106    26687150982   \n",
       "9    TSLA                      Jones Inc     NYSE  1059.950974   210788355381   \n",
       "10  GOOGL                Briggs and Sons   NASDAQ   319.284950   479715566915   \n",
       "11   AMZN        Lewis, Larsen and Ayers     NYSE   183.563260  1300332216960   \n",
       "12   MSFT       Ramos, Bailey and Waters   NASDAQ  1865.199946   267427841559   \n",
       "13   MSFT                     Thomas PLC     NYSE  1323.978190  1182241444608   \n",
       "14   AAPL                  Bowers-Brewer     NYSE   774.133823    55911952610   \n",
       "15   MSFT      Drake, Franklin and White   NASDAQ  1107.153850   281701713810   \n",
       "16   TSLA        Hicks, Pacheco and Ward   NASDAQ  1383.838852  1223055668933   \n",
       "17   AMZN       Williams, Burke and Hill     NYSE  1214.487696  1128404828340   \n",
       "18   AMZN  Everett, Jones and Richardson   NASDAQ   971.053825    14858365759   \n",
       "19   MSFT                   Noble-Nelson   NASDAQ  1929.109774   658224866069   \n",
       "20  GOOGL              Castillo and Sons   NASDAQ   877.685233   229398069350   \n",
       "21   AAPL    Wells, Hancock and Martinez     NYSE   729.467535   117337869581   \n",
       "22   MSFT              Schroeder-Shields   NASDAQ  1253.533345  1005519498489   \n",
       "23   TSLA              Bradley-Patterson   NASDAQ   439.119400  1446322385550   \n",
       "24  GOOGL                    Mcbride LLC   NASDAQ  1632.265758  1590691185012   \n",
       "25   TSLA                       Wong PLC     NYSE  1314.541230  1611414170796   \n",
       "26   AAPL                      Clark Ltd   NASDAQ   177.731132  1985543966044   \n",
       "27   AAPL                   Thomas-Hogan     NYSE  1633.624682  1296748436145   \n",
       "28   MSFT         Smith, Patel and Ramos   NASDAQ   972.435853   764245031569   \n",
       "29   AAPL                     Palmer PLC     NYSE   314.107441   693723789359   \n",
       "30  GOOGL               Hogan-Mccullough     NYSE  1236.426034   770056219072   \n",
       "\n",
       "    P/E Ratio  Dividend Yield (%)        EPS   Volume      Beta  \n",
       "0    8.868341            3.690682   7.069619  6542456  0.936827  \n",
       "1   32.676797            3.708999  16.158544  7499712  1.526390  \n",
       "2   20.347675            2.811100   8.002927  7000831  0.990580  \n",
       "3   45.991582            0.196679   3.719283  3703712  0.569198  \n",
       "4   15.868198            0.768755   7.841239  5653412  0.512189  \n",
       "5   14.646331            2.850187   5.255862  7057742  0.563434  \n",
       "6   34.914300            4.628766  19.888561  9978979  1.165563  \n",
       "7   29.114335            2.525364  18.371537  3185133  1.859365  \n",
       "8   26.296906            1.433891  14.382955  1133346  1.396049  \n",
       "9   11.526021            0.133270  14.981695  4585351  1.750241  \n",
       "10  45.171594            4.239481   1.590826  6114048  0.770155  \n",
       "11  41.323051            3.751818   7.988204  9026831  1.528651  \n",
       "12  44.867137            2.219861  12.078565  9144657  1.065279  \n",
       "13  46.647266            3.248473   2.837527  5777724  0.538328  \n",
       "14  45.446412            4.397987   7.372043  5494997  1.385542  \n",
       "15  10.897344            1.889355  16.443353  2510688  0.889243  \n",
       "16  21.219839            3.773612  16.048357  3354440  1.065689  \n",
       "17  39.044142            1.851208   2.403128  4334487  1.656933  \n",
       "18  40.631282            2.437753  18.464172  5605224  1.436313  \n",
       "19  35.893402            3.748978  15.647212  7567803  1.622520  \n",
       "20  27.295708            1.849060  19.000546  8955821  1.840143  \n",
       "21  19.005294            0.876990   7.671050  8658383  1.314604  \n",
       "22  12.002896            2.454573   8.518016  3716929  1.990645  \n",
       "23  25.326694            3.978529  12.101402  7609144  1.056877  \n",
       "24  10.497266            2.858470   9.887589  6444919  1.253033  \n",
       "25  23.626919            0.735692  11.035544  7370577  0.935200  \n",
       "26  35.278135            4.786553  19.642791  8410931  1.681244  \n",
       "27  49.992210            2.777977   5.760047  3894797  0.721614  \n",
       "28   5.243757            2.119477  17.563844  7094126  0.598135  \n",
       "29  30.920768            0.683963  19.873952  9147938  1.902126  \n",
       "30   8.868341            3.690682   7.069619  6542456  0.936827  "
      ]
     },
     "execution_count": 25,
     "metadata": {},
     "output_type": "execute_result"
    }
   ],
   "source": [
    "import pandas as pd\n",
    "from faker import Faker\n",
    "import random\n",
    "\n",
    "# Initialize Faker for fake data generation\n",
    "fake = Faker()\n",
    "\n",
    "# Generate random Bloomberg-like financial data\n",
    "data = []\n",
    "for _ in range(30):\n",
    "    ticker = fake.random_element(elements=('AAPL', 'GOOGL', 'AMZN', 'MSFT', 'TSLA'))\n",
    "    company_name = fake.company()\n",
    "    exchange = fake.random_element(elements=('NYSE', 'NASDAQ'))\n",
    "    last_price = random.uniform(100, 2000)  # Last traded price\n",
    "    market_cap = random.randint(1000000000, 2000000000000)  # Market capitalization in USD\n",
    "    pe_ratio = random.uniform(5, 50)  # Price-to-earnings ratio\n",
    "    dividend_yield = random.uniform(0, 5)  # Dividend yield (%)\n",
    "    earnings_per_share = random.uniform(1, 20)  # Earnings per share\n",
    "    volume = random.randint(1000000, 10000000)  # Trading volume\n",
    "    beta = random.uniform(0.5, 2.0)  # Beta coefficient\n",
    "    data.append([ticker, company_name, exchange, last_price, market_cap, pe_ratio, dividend_yield, earnings_per_share, volume, beta])\n",
    "\n",
    "# Create DataFrame\n",
    "df = pd.DataFrame(data, columns=['Ticker', 'Company Name', 'Exchange', 'Last Price', 'Market Cap', 'P/E Ratio', 'Dividend Yield (%)', 'EPS', 'Volume', 'Beta'])\n",
    "\n",
    "# Adding duplicates to the DataFrame\n",
    "df = pd.concat([df] * 2, ignore_index=True)  # Duplicates each row once\n",
    "\n",
    "# Display the DataFrame\n",
    "\n",
    "\n",
    "df.head(31)"
   ]
  },
  {
   "cell_type": "code",
   "execution_count": 34,
   "id": "668b296a-84a2-4e10-bac2-40f91e82f8c0",
   "metadata": {
    "canvas": {
     "comments": [],
     "componentType": "CodeCell",
     "copiedOriginId": null,
     "diskcache": false,
     "headerColor": "transparent",
     "id": "cb70b69d-e02e-4c34-bccb-cb855e6b220a",
     "isComponent": false,
     "name": "",
     "parents": []
    }
   },
   "outputs": [
    {
     "data": {
      "text/html": [
       "<div>\n",
       "<style scoped>\n",
       "    .dataframe tbody tr th:only-of-type {\n",
       "        vertical-align: middle;\n",
       "    }\n",
       "\n",
       "    .dataframe tbody tr th {\n",
       "        vertical-align: top;\n",
       "    }\n",
       "\n",
       "    .dataframe thead th {\n",
       "        text-align: right;\n",
       "    }\n",
       "</style>\n",
       "<table border=\"1\" class=\"dataframe\">\n",
       "  <thead>\n",
       "    <tr style=\"text-align: right;\">\n",
       "      <th></th>\n",
       "      <th>Ticker</th>\n",
       "      <th>Company Name</th>\n",
       "      <th>Exchange</th>\n",
       "      <th>Last Price</th>\n",
       "      <th>Market Cap</th>\n",
       "      <th>P/E Ratio</th>\n",
       "      <th>Dividend Yield (%)</th>\n",
       "      <th>EPS</th>\n",
       "      <th>Volume</th>\n",
       "      <th>Beta</th>\n",
       "    </tr>\n",
       "  </thead>\n",
       "  <tbody>\n",
       "    <tr>\n",
       "      <th>0</th>\n",
       "      <td>GOOGL</td>\n",
       "      <td>Hogan-Mccullough</td>\n",
       "      <td>NYSE</td>\n",
       "      <td>1236.426034</td>\n",
       "      <td>770056219072</td>\n",
       "      <td>8.868341</td>\n",
       "      <td>3.690682</td>\n",
       "      <td>7.069619</td>\n",
       "      <td>6542456</td>\n",
       "      <td>0.936827</td>\n",
       "    </tr>\n",
       "    <tr>\n",
       "      <th>1</th>\n",
       "      <td>AMZN</td>\n",
       "      <td>Baker and Sons</td>\n",
       "      <td>NYSE</td>\n",
       "      <td>773.873359</td>\n",
       "      <td>584217423307</td>\n",
       "      <td>32.676797</td>\n",
       "      <td>3.708999</td>\n",
       "      <td>16.158544</td>\n",
       "      <td>7499712</td>\n",
       "      <td>1.526390</td>\n",
       "    </tr>\n",
       "    <tr>\n",
       "      <th>2</th>\n",
       "      <td>AAPL</td>\n",
       "      <td>Parsons-Lewis</td>\n",
       "      <td>NASDAQ</td>\n",
       "      <td>514.085390</td>\n",
       "      <td>1452189357447</td>\n",
       "      <td>20.347675</td>\n",
       "      <td>2.811100</td>\n",
       "      <td>8.002927</td>\n",
       "      <td>7000831</td>\n",
       "      <td>0.990580</td>\n",
       "    </tr>\n",
       "    <tr>\n",
       "      <th>7</th>\n",
       "      <td>MSFT</td>\n",
       "      <td>Anthony-Williamson</td>\n",
       "      <td>NASDAQ</td>\n",
       "      <td>518.670600</td>\n",
       "      <td>857094529847</td>\n",
       "      <td>29.114335</td>\n",
       "      <td>2.525364</td>\n",
       "      <td>18.371537</td>\n",
       "      <td>3185133</td>\n",
       "      <td>1.859365</td>\n",
       "    </tr>\n",
       "    <tr>\n",
       "      <th>9</th>\n",
       "      <td>TSLA</td>\n",
       "      <td>Jones Inc</td>\n",
       "      <td>NYSE</td>\n",
       "      <td>1059.950974</td>\n",
       "      <td>210788355381</td>\n",
       "      <td>11.526021</td>\n",
       "      <td>0.133270</td>\n",
       "      <td>14.981695</td>\n",
       "      <td>4585351</td>\n",
       "      <td>1.750241</td>\n",
       "    </tr>\n",
       "  </tbody>\n",
       "</table>\n",
       "</div>"
      ],
      "text/plain": [
       "  Ticker        Company Name Exchange   Last Price     Market Cap  P/E Ratio  \\\n",
       "0  GOOGL    Hogan-Mccullough     NYSE  1236.426034   770056219072   8.868341   \n",
       "1   AMZN      Baker and Sons     NYSE   773.873359   584217423307  32.676797   \n",
       "2   AAPL       Parsons-Lewis   NASDAQ   514.085390  1452189357447  20.347675   \n",
       "7   MSFT  Anthony-Williamson   NASDAQ   518.670600   857094529847  29.114335   \n",
       "9   TSLA           Jones Inc     NYSE  1059.950974   210788355381  11.526021   \n",
       "\n",
       "   Dividend Yield (%)        EPS   Volume      Beta  \n",
       "0            3.690682   7.069619  6542456  0.936827  \n",
       "1            3.708999  16.158544  7499712  1.526390  \n",
       "2            2.811100   8.002927  7000831  0.990580  \n",
       "7            2.525364  18.371537  3185133  1.859365  \n",
       "9            0.133270  14.981695  4585351  1.750241  "
      ]
     },
     "execution_count": 34,
     "metadata": {},
     "output_type": "execute_result"
    }
   ],
   "source": [
    "## Dropping duplicate pairs\n",
    "\n",
    "df = df.drop_duplicates(subset=[ \"Ticker\"])\n",
    "df"
   ]
  },
  {
   "cell_type": "code",
   "execution_count": 36,
   "id": "a7204ab0-d895-468c-8340-a830b68fe222",
   "metadata": {
    "canvas": {
     "comments": [],
     "componentType": "CodeCell",
     "copiedOriginId": null,
     "diskcache": false,
     "headerColor": "transparent",
     "id": "89f1872a-1a8d-4e96-9aa9-2ea185ebaec6",
     "isComponent": false,
     "name": "",
     "parents": []
    }
   },
   "outputs": [
    {
     "data": {
      "text/plain": [
       "NYSE      3\n",
       "NASDAQ    2\n",
       "Name: Exchange, dtype: int64"
      ]
     },
     "execution_count": 36,
     "metadata": {},
     "output_type": "execute_result"
    }
   ],
   "source": [
    "# Counting \n",
    "\n",
    "df[\"Exchange\"].value_counts()"
   ]
  },
  {
   "cell_type": "code",
   "execution_count": 37,
   "id": "3f0686af-c544-4af8-be84-9b71c1576168",
   "metadata": {
    "canvas": {
     "comments": [],
     "componentType": "CodeCell",
     "copiedOriginId": null,
     "diskcache": false,
     "headerColor": "transparent",
     "id": "5bb795be-36ef-4cee-8419-ddbdc436f45d",
     "isComponent": false,
     "name": "",
     "parents": []
    }
   },
   "outputs": [
    {
     "data": {
      "text/plain": [
       "NYSE      0.6\n",
       "NASDAQ    0.4\n",
       "Name: Exchange, dtype: float64"
      ]
     },
     "execution_count": 37,
     "metadata": {},
     "output_type": "execute_result"
    }
   ],
   "source": [
    "# turning counts into proportions of the total\n",
    "\n",
    "df[\"Exchange\"].value_counts(normalize=True)"
   ]
  },
  {
   "cell_type": "markdown",
   "id": "c9d71dc0-c47d-4cae-82a9-3d8a9e9ae662",
   "metadata": {
    "canvas": {
     "comments": [],
     "componentType": "CodeCell",
     "copiedOriginId": null,
     "diskcache": false,
     "headerColor": "transparent",
     "id": "855f06df-fce2-4973-948d-d0a2d3b8af4a",
     "isComponent": false,
     "name": "",
     "parents": []
    }
   },
   "source": [
    "## *Grouped Summary Statistics*"
   ]
  },
  {
   "cell_type": "code",
   "execution_count": 38,
   "id": "3004af32-e0a4-4bca-9c92-7582fa0cf36f",
   "metadata": {
    "canvas": {
     "comments": [],
     "componentType": "CodeCell",
     "copiedOriginId": null,
     "diskcache": false,
     "headerColor": "transparent",
     "id": "6b5bb0cb-ee0d-46cb-9108-7d51cdaf7619",
     "isComponent": false,
     "name": "",
     "parents": []
    }
   },
   "outputs": [
    {
     "data": {
      "text/plain": [
       "Ticker\n",
       "AAPL     7000831.0\n",
       "AMZN     7499712.0\n",
       "GOOGL    6542456.0\n",
       "MSFT     3185133.0\n",
       "TSLA     4585351.0\n",
       "Name: Volume, dtype: float64"
      ]
     },
     "execution_count": 38,
     "metadata": {},
     "output_type": "execute_result"
    }
   ],
   "source": [
    "df.groupby(\"Ticker\")[\"Volume\"].mean()"
   ]
  },
  {
   "cell_type": "code",
   "execution_count": 39,
   "id": "f28f9914-0b6c-4f0e-b4a1-edce4ddcbf01",
   "metadata": {
    "canvas": {
     "comments": [],
     "componentType": "CodeCell",
     "copiedOriginId": null,
     "diskcache": false,
     "headerColor": "transparent",
     "id": "b5c5c638-2733-41be-8a7a-be5be89b36df",
     "isComponent": false,
     "name": "",
     "parents": []
    }
   },
   "outputs": [
    {
     "data": {
      "text/html": [
       "<div>\n",
       "<style scoped>\n",
       "    .dataframe tbody tr th:only-of-type {\n",
       "        vertical-align: middle;\n",
       "    }\n",
       "\n",
       "    .dataframe tbody tr th {\n",
       "        vertical-align: top;\n",
       "    }\n",
       "\n",
       "    .dataframe thead th {\n",
       "        text-align: right;\n",
       "    }\n",
       "</style>\n",
       "<table border=\"1\" class=\"dataframe\">\n",
       "  <thead>\n",
       "    <tr style=\"text-align: right;\">\n",
       "      <th></th>\n",
       "      <th>min</th>\n",
       "      <th>max</th>\n",
       "      <th>sum</th>\n",
       "    </tr>\n",
       "    <tr>\n",
       "      <th>Ticker</th>\n",
       "      <th></th>\n",
       "      <th></th>\n",
       "      <th></th>\n",
       "    </tr>\n",
       "  </thead>\n",
       "  <tbody>\n",
       "    <tr>\n",
       "      <th>AAPL</th>\n",
       "      <td>7000831</td>\n",
       "      <td>7000831</td>\n",
       "      <td>7000831</td>\n",
       "    </tr>\n",
       "    <tr>\n",
       "      <th>AMZN</th>\n",
       "      <td>7499712</td>\n",
       "      <td>7499712</td>\n",
       "      <td>7499712</td>\n",
       "    </tr>\n",
       "    <tr>\n",
       "      <th>GOOGL</th>\n",
       "      <td>6542456</td>\n",
       "      <td>6542456</td>\n",
       "      <td>6542456</td>\n",
       "    </tr>\n",
       "    <tr>\n",
       "      <th>MSFT</th>\n",
       "      <td>3185133</td>\n",
       "      <td>3185133</td>\n",
       "      <td>3185133</td>\n",
       "    </tr>\n",
       "    <tr>\n",
       "      <th>TSLA</th>\n",
       "      <td>4585351</td>\n",
       "      <td>4585351</td>\n",
       "      <td>4585351</td>\n",
       "    </tr>\n",
       "  </tbody>\n",
       "</table>\n",
       "</div>"
      ],
      "text/plain": [
       "            min      max      sum\n",
       "Ticker                           \n",
       "AAPL    7000831  7000831  7000831\n",
       "AMZN    7499712  7499712  7499712\n",
       "GOOGL   6542456  6542456  6542456\n",
       "MSFT    3185133  3185133  3185133\n",
       "TSLA    4585351  4585351  4585351"
      ]
     },
     "execution_count": 39,
     "metadata": {},
     "output_type": "execute_result"
    }
   ],
   "source": [
    "df.groupby(\"Ticker\")[\"Volume\"].agg([min , max , sum])"
   ]
  },
  {
   "cell_type": "code",
   "execution_count": 57,
   "id": "6387298f-4bde-4929-b6e4-67453b0dd064",
   "metadata": {
    "canvas": {
     "comments": [],
     "componentType": "CodeCell",
     "copiedOriginId": null,
     "diskcache": false,
     "headerColor": "transparent",
     "id": "ba9e5067-94d9-4253-ba2f-afd8f5b96289",
     "isComponent": false,
     "name": "",
     "parents": []
    }
   },
   "outputs": [
    {
     "data": {
      "text/plain": [
       "Ticker\n",
       "AAPL     7000831.0\n",
       "AMZN     7499712.0\n",
       "GOOGL    6542456.0\n",
       "MSFT     3185133.0\n",
       "TSLA     4585351.0\n",
       "Name: Volume, dtype: float64"
      ]
     },
     "execution_count": 57,
     "metadata": {},
     "output_type": "execute_result"
    }
   ],
   "source": [
    "df.groupby(\"Ticker\")[\"Volume\"].agg(sum)"
   ]
  },
  {
   "cell_type": "code",
   "execution_count": 59,
   "id": "3cdb9de0-9c0e-405d-8503-9f35a9f7ea64",
   "metadata": {
    "canvas": {
     "comments": [],
     "componentType": "CodeCell",
     "copiedOriginId": null,
     "diskcache": false,
     "headerColor": "transparent",
     "id": "bcea4bdf-bbea-4a37-9e1b-9cb6f94d3aa2",
     "isComponent": false,
     "name": "",
     "parents": []
    }
   },
   "outputs": [
    {
     "data": {
      "text/html": [
       "<div>\n",
       "<style scoped>\n",
       "    .dataframe tbody tr th:only-of-type {\n",
       "        vertical-align: middle;\n",
       "    }\n",
       "\n",
       "    .dataframe tbody tr th {\n",
       "        vertical-align: top;\n",
       "    }\n",
       "\n",
       "    .dataframe thead tr th {\n",
       "        text-align: left;\n",
       "    }\n",
       "\n",
       "    .dataframe thead tr:last-of-type th {\n",
       "        text-align: right;\n",
       "    }\n",
       "</style>\n",
       "<table border=\"1\" class=\"dataframe\">\n",
       "  <thead>\n",
       "    <tr>\n",
       "      <th></th>\n",
       "      <th colspan=\"4\" halign=\"left\">Market Cap</th>\n",
       "      <th colspan=\"4\" halign=\"left\">Volume</th>\n",
       "    </tr>\n",
       "    <tr>\n",
       "      <th></th>\n",
       "      <th>max</th>\n",
       "      <th>min</th>\n",
       "      <th>mean</th>\n",
       "      <th>median</th>\n",
       "      <th>max</th>\n",
       "      <th>min</th>\n",
       "      <th>mean</th>\n",
       "      <th>median</th>\n",
       "    </tr>\n",
       "    <tr>\n",
       "      <th>Company Name</th>\n",
       "      <th></th>\n",
       "      <th></th>\n",
       "      <th></th>\n",
       "      <th></th>\n",
       "      <th></th>\n",
       "      <th></th>\n",
       "      <th></th>\n",
       "      <th></th>\n",
       "    </tr>\n",
       "  </thead>\n",
       "  <tbody>\n",
       "    <tr>\n",
       "      <th>Anthony-Williamson</th>\n",
       "      <td>857094529847</td>\n",
       "      <td>857094529847</td>\n",
       "      <td>8.570945e+11</td>\n",
       "      <td>8.570945e+11</td>\n",
       "      <td>3185133.0</td>\n",
       "      <td>3185133.0</td>\n",
       "      <td>3185133.0</td>\n",
       "      <td>3185133.0</td>\n",
       "    </tr>\n",
       "    <tr>\n",
       "      <th>Baker and Sons</th>\n",
       "      <td>584217423307</td>\n",
       "      <td>584217423307</td>\n",
       "      <td>5.842174e+11</td>\n",
       "      <td>5.842174e+11</td>\n",
       "      <td>7499712.0</td>\n",
       "      <td>7499712.0</td>\n",
       "      <td>7499712.0</td>\n",
       "      <td>7499712.0</td>\n",
       "    </tr>\n",
       "    <tr>\n",
       "      <th>Hogan-Mccullough</th>\n",
       "      <td>770056219072</td>\n",
       "      <td>770056219072</td>\n",
       "      <td>7.700562e+11</td>\n",
       "      <td>7.700562e+11</td>\n",
       "      <td>6542456.0</td>\n",
       "      <td>6542456.0</td>\n",
       "      <td>6542456.0</td>\n",
       "      <td>6542456.0</td>\n",
       "    </tr>\n",
       "    <tr>\n",
       "      <th>Jones Inc</th>\n",
       "      <td>210788355381</td>\n",
       "      <td>210788355381</td>\n",
       "      <td>2.107884e+11</td>\n",
       "      <td>2.107884e+11</td>\n",
       "      <td>4585351.0</td>\n",
       "      <td>4585351.0</td>\n",
       "      <td>4585351.0</td>\n",
       "      <td>4585351.0</td>\n",
       "    </tr>\n",
       "    <tr>\n",
       "      <th>Parsons-Lewis</th>\n",
       "      <td>1452189357447</td>\n",
       "      <td>1452189357447</td>\n",
       "      <td>1.452189e+12</td>\n",
       "      <td>1.452189e+12</td>\n",
       "      <td>7000831.0</td>\n",
       "      <td>7000831.0</td>\n",
       "      <td>7000831.0</td>\n",
       "      <td>7000831.0</td>\n",
       "    </tr>\n",
       "  </tbody>\n",
       "</table>\n",
       "</div>"
      ],
      "text/plain": [
       "                       Market Cap                                             \\\n",
       "                              max            min          mean        median   \n",
       "Company Name                                                                   \n",
       "Anthony-Williamson   857094529847   857094529847  8.570945e+11  8.570945e+11   \n",
       "Baker and Sons       584217423307   584217423307  5.842174e+11  5.842174e+11   \n",
       "Hogan-Mccullough     770056219072   770056219072  7.700562e+11  7.700562e+11   \n",
       "Jones Inc            210788355381   210788355381  2.107884e+11  2.107884e+11   \n",
       "Parsons-Lewis       1452189357447  1452189357447  1.452189e+12  1.452189e+12   \n",
       "\n",
       "                       Volume                                   \n",
       "                          max        min       mean     median  \n",
       "Company Name                                                    \n",
       "Anthony-Williamson  3185133.0  3185133.0  3185133.0  3185133.0  \n",
       "Baker and Sons      7499712.0  7499712.0  7499712.0  7499712.0  \n",
       "Hogan-Mccullough    6542456.0  6542456.0  6542456.0  6542456.0  \n",
       "Jones Inc           4585351.0  4585351.0  4585351.0  4585351.0  \n",
       "Parsons-Lewis       7000831.0  7000831.0  7000831.0  7000831.0  "
      ]
     },
     "execution_count": 59,
     "metadata": {},
     "output_type": "execute_result"
    }
   ],
   "source": [
    "df.groupby(\"Company Name\")[[\"Market Cap\" , \"Volume\"]].agg([np.max , np.min , np.mean , np.median])"
   ]
  },
  {
   "cell_type": "markdown",
   "id": "5795cc27-c191-468d-9eed-35ed85134a45",
   "metadata": {
    "canvas": {
     "comments": [],
     "componentType": "CodeCell",
     "copiedOriginId": null,
     "diskcache": false,
     "headerColor": "transparent",
     "id": "270a555a-b18a-4752-80c5-71eb24a2cdcb",
     "isComponent": false,
     "name": "",
     "parents": []
    }
   },
   "source": [
    "## *Pivot Tables in pandas*"
   ]
  },
  {
   "cell_type": "code",
   "execution_count": 60,
   "id": "f64dc573-1c07-4e0b-92d2-ea4c7fc32639",
   "metadata": {
    "canvas": {
     "comments": [],
     "componentType": "CodeCell",
     "copiedOriginId": null,
     "diskcache": false,
     "headerColor": "transparent",
     "id": "95e64419-7eaa-4d2b-963a-c07b02648c4d",
     "isComponent": false,
     "name": "",
     "parents": []
    }
   },
   "outputs": [
    {
     "data": {
      "text/html": [
       "<div>\n",
       "<style scoped>\n",
       "    .dataframe tbody tr th:only-of-type {\n",
       "        vertical-align: middle;\n",
       "    }\n",
       "\n",
       "    .dataframe tbody tr th {\n",
       "        vertical-align: top;\n",
       "    }\n",
       "\n",
       "    .dataframe thead th {\n",
       "        text-align: right;\n",
       "    }\n",
       "</style>\n",
       "<table border=\"1\" class=\"dataframe\">\n",
       "  <thead>\n",
       "    <tr style=\"text-align: right;\">\n",
       "      <th></th>\n",
       "      <th>Market Cap</th>\n",
       "    </tr>\n",
       "    <tr>\n",
       "      <th>Ticker</th>\n",
       "      <th></th>\n",
       "    </tr>\n",
       "  </thead>\n",
       "  <tbody>\n",
       "    <tr>\n",
       "      <th>AAPL</th>\n",
       "      <td>1452189357447</td>\n",
       "    </tr>\n",
       "    <tr>\n",
       "      <th>AMZN</th>\n",
       "      <td>584217423307</td>\n",
       "    </tr>\n",
       "    <tr>\n",
       "      <th>GOOGL</th>\n",
       "      <td>770056219072</td>\n",
       "    </tr>\n",
       "    <tr>\n",
       "      <th>MSFT</th>\n",
       "      <td>857094529847</td>\n",
       "    </tr>\n",
       "    <tr>\n",
       "      <th>TSLA</th>\n",
       "      <td>210788355381</td>\n",
       "    </tr>\n",
       "  </tbody>\n",
       "</table>\n",
       "</div>"
      ],
      "text/plain": [
       "           Market Cap\n",
       "Ticker               \n",
       "AAPL    1452189357447\n",
       "AMZN     584217423307\n",
       "GOOGL    770056219072\n",
       "MSFT     857094529847\n",
       "TSLA     210788355381"
      ]
     },
     "execution_count": 60,
     "metadata": {},
     "output_type": "execute_result"
    }
   ],
   "source": [
    "df.pivot_table(values=\"Market Cap\" , index=\"Ticker\")"
   ]
  },
  {
   "cell_type": "code",
   "execution_count": 61,
   "id": "67d9a9ee-8243-4a46-8858-b49b8d9b5c46",
   "metadata": {
    "canvas": {
     "comments": [],
     "componentType": "CodeCell",
     "copiedOriginId": null,
     "diskcache": false,
     "headerColor": "transparent",
     "id": "89e9302b-b273-4fb2-99a4-7e7bc6dbe1a2",
     "isComponent": false,
     "name": "",
     "parents": []
    }
   },
   "outputs": [
    {
     "data": {
      "text/html": [
       "<div>\n",
       "<style scoped>\n",
       "    .dataframe tbody tr th:only-of-type {\n",
       "        vertical-align: middle;\n",
       "    }\n",
       "\n",
       "    .dataframe tbody tr th {\n",
       "        vertical-align: top;\n",
       "    }\n",
       "\n",
       "    .dataframe thead th {\n",
       "        text-align: right;\n",
       "    }\n",
       "</style>\n",
       "<table border=\"1\" class=\"dataframe\">\n",
       "  <thead>\n",
       "    <tr style=\"text-align: right;\">\n",
       "      <th></th>\n",
       "      <th>Market Cap</th>\n",
       "    </tr>\n",
       "    <tr>\n",
       "      <th>Ticker</th>\n",
       "      <th></th>\n",
       "    </tr>\n",
       "  </thead>\n",
       "  <tbody>\n",
       "    <tr>\n",
       "      <th>AAPL</th>\n",
       "      <td>11324.205708</td>\n",
       "    </tr>\n",
       "    <tr>\n",
       "      <th>AMZN</th>\n",
       "      <td>8359.715577</td>\n",
       "    </tr>\n",
       "    <tr>\n",
       "      <th>GOOGL</th>\n",
       "      <td>9165.879516</td>\n",
       "    </tr>\n",
       "    <tr>\n",
       "      <th>MSFT</th>\n",
       "      <td>9498.963986</td>\n",
       "    </tr>\n",
       "    <tr>\n",
       "      <th>TSLA</th>\n",
       "      <td>5951.350637</td>\n",
       "    </tr>\n",
       "  </tbody>\n",
       "</table>\n",
       "</div>"
      ],
      "text/plain": [
       "          Market Cap\n",
       "Ticker              \n",
       "AAPL    11324.205708\n",
       "AMZN     8359.715577\n",
       "GOOGL    9165.879516\n",
       "MSFT     9498.963986\n",
       "TSLA     5951.350637"
      ]
     },
     "execution_count": 61,
     "metadata": {},
     "output_type": "execute_result"
    }
   ],
   "source": [
    "# calculating cube root of market cap \n",
    "\n",
    "df.pivot_table(values=\"Market Cap\" , index=\"Ticker\" , aggfunc=np.cbrt)"
   ]
  },
  {
   "cell_type": "markdown",
   "id": "dbc22c75-83f2-4407-a70e-df7abad3ce50",
   "metadata": {
    "canvas": {
     "comments": [],
     "componentType": "CodeCell",
     "copiedOriginId": null,
     "diskcache": false,
     "headerColor": "transparent",
     "id": "9ac42c95-cf1e-4320-b054-97875b08fc1f",
     "isComponent": false,
     "name": "",
     "parents": []
    }
   },
   "source": [
    "## *Slicing and Indexing DataFrames*"
   ]
  },
  {
   "cell_type": "markdown",
   "id": "4febfc54-fde3-40eb-be25-ad68194c91a6",
   "metadata": {
    "canvas": {
     "comments": [],
     "componentType": "CodeCell",
     "copiedOriginId": null,
     "diskcache": false,
     "headerColor": "transparent",
     "id": "d4d62310-a5f4-461d-9666-cae90cfa4c60",
     "isComponent": false,
     "name": "",
     "parents": []
    }
   },
   "source": [
    "TBC"
   ]
  },
  {
   "cell_type": "code",
   "execution_count": null,
   "id": "96125522-fd93-4ba0-b387-62988e926d6f",
   "metadata": {
    "canvas": {
     "comments": [],
     "componentType": "CodeCell",
     "copiedOriginId": null,
     "diskcache": false,
     "headerColor": "transparent",
     "id": "18b5181f-b1f9-40e4-aa36-92b1a9c1890a",
     "isComponent": false,
     "name": "",
     "parents": []
    }
   },
   "outputs": [],
   "source": []
  },
  {
   "cell_type": "code",
   "execution_count": null,
   "id": "f2f50b61-3e47-47b8-b389-79b1bed2a713",
   "metadata": {
    "canvas": {
     "comments": [],
     "componentType": "CodeCell",
     "copiedOriginId": null,
     "diskcache": false,
     "headerColor": "transparent",
     "id": "829932e7-ddb2-44cc-bbd5-f5fc5a6a53dc",
     "isComponent": false,
     "name": "",
     "parents": []
    }
   },
   "outputs": [],
   "source": []
  },
  {
   "cell_type": "code",
   "execution_count": null,
   "id": "41bbe001-19a9-4eb4-a6bc-76e038042757",
   "metadata": {
    "canvas": {
     "comments": [],
     "componentType": "CodeCell",
     "copiedOriginId": null,
     "diskcache": false,
     "headerColor": "transparent",
     "id": "f6acb7e1-2116-4f92-aff9-e6fb9321d9d1",
     "isComponent": false,
     "name": "",
     "parents": []
    }
   },
   "outputs": [],
   "source": []
  },
  {
   "cell_type": "code",
   "execution_count": null,
   "id": "b9f06690-9233-4a12-9877-55abdc0285bc",
   "metadata": {
    "canvas": {
     "comments": [],
     "componentType": "CodeCell",
     "copiedOriginId": null,
     "diskcache": false,
     "headerColor": "transparent",
     "id": "f3e51e8b-1922-4693-a54a-fe963583689c",
     "isComponent": false,
     "name": "",
     "parents": []
    }
   },
   "outputs": [],
   "source": []
  },
  {
   "cell_type": "code",
   "execution_count": null,
   "id": "97103740-555b-41cf-8534-19ea17019d28",
   "metadata": {
    "canvas": {
     "comments": [],
     "componentType": "CodeCell",
     "copiedOriginId": null,
     "diskcache": false,
     "headerColor": "transparent",
     "id": "1b897d47-51e1-4416-8b43-1d53174b1109",
     "isComponent": false,
     "name": "",
     "parents": []
    }
   },
   "outputs": [],
   "source": []
  },
  {
   "cell_type": "code",
   "execution_count": null,
   "id": "772478bb-a119-4209-9229-145c8eee5796",
   "metadata": {
    "canvas": {
     "comments": [],
     "componentType": "CodeCell",
     "copiedOriginId": null,
     "diskcache": false,
     "headerColor": "transparent",
     "id": "1030df67-d7ee-4599-b18a-7952b6325a6a",
     "isComponent": false,
     "name": "",
     "parents": []
    }
   },
   "outputs": [],
   "source": []
  },
  {
   "cell_type": "code",
   "execution_count": null,
   "id": "c645367e-880a-45a8-85f4-1025cc8dbdc3",
   "metadata": {
    "canvas": {
     "comments": [],
     "componentType": "CodeCell",
     "copiedOriginId": null,
     "diskcache": false,
     "headerColor": "transparent",
     "id": "82556cfb-ca5f-44ad-9901-d8d116c36d93",
     "isComponent": false,
     "name": "",
     "parents": []
    }
   },
   "outputs": [],
   "source": []
  },
  {
   "cell_type": "code",
   "execution_count": null,
   "id": "25cce853-7147-43d4-bdc2-1d00021f755a",
   "metadata": {
    "canvas": {
     "comments": [],
     "componentType": "CodeCell",
     "copiedOriginId": null,
     "diskcache": false,
     "headerColor": "transparent",
     "id": "bd720100-da17-4fd9-acfe-debb364a981b",
     "isComponent": false,
     "name": "",
     "parents": []
    }
   },
   "outputs": [],
   "source": []
  },
  {
   "cell_type": "code",
   "execution_count": null,
   "id": "ba4e3e80-f22d-4c7f-a969-593dda712340",
   "metadata": {
    "canvas": {
     "comments": [],
     "componentType": "CodeCell",
     "copiedOriginId": null,
     "diskcache": false,
     "headerColor": "transparent",
     "id": "204744ad-29de-4484-8e43-b5f1c64b0e2c",
     "isComponent": false,
     "name": "",
     "parents": []
    }
   },
   "outputs": [],
   "source": []
  },
  {
   "cell_type": "code",
   "execution_count": null,
   "id": "c0c69de6-2e1b-40a6-b3a0-a5c15d2819db",
   "metadata": {
    "canvas": {
     "comments": [],
     "componentType": "CodeCell",
     "copiedOriginId": null,
     "diskcache": false,
     "headerColor": "transparent",
     "id": "e0de5eb4-eb27-494f-b4d2-7d989be783b1",
     "isComponent": false,
     "name": "",
     "parents": []
    }
   },
   "outputs": [],
   "source": []
  },
  {
   "cell_type": "code",
   "execution_count": null,
   "id": "a14861cc-e5c0-4383-ada5-1e84f1812661",
   "metadata": {
    "canvas": {
     "comments": [],
     "componentType": "CodeCell",
     "copiedOriginId": null,
     "diskcache": false,
     "headerColor": "transparent",
     "id": "83898de6-4273-444a-afd0-17142af64595",
     "isComponent": false,
     "name": "",
     "parents": []
    }
   },
   "outputs": [],
   "source": []
  },
  {
   "cell_type": "code",
   "execution_count": null,
   "id": "aa02b128-d261-4482-9a81-059849f02254",
   "metadata": {
    "canvas": {
     "comments": [],
     "componentType": "CodeCell",
     "copiedOriginId": null,
     "diskcache": false,
     "headerColor": "transparent",
     "id": "323399be-c1aa-4c29-8df2-29009a99c165",
     "isComponent": false,
     "name": "",
     "parents": []
    }
   },
   "outputs": [],
   "source": []
  },
  {
   "cell_type": "code",
   "execution_count": null,
   "id": "81d28988-8992-43a7-9f5d-8252cb13be15",
   "metadata": {
    "canvas": {
     "comments": [],
     "componentType": "CodeCell",
     "copiedOriginId": null,
     "diskcache": false,
     "headerColor": "transparent",
     "id": "0d6c6e93-d95d-4789-8abb-6a61187d8ab6",
     "isComponent": false,
     "name": "",
     "parents": []
    }
   },
   "outputs": [],
   "source": []
  },
  {
   "cell_type": "code",
   "execution_count": null,
   "id": "2cc80eec-d9a6-44fd-843d-07ad949e6f2c",
   "metadata": {
    "canvas": {
     "comments": [],
     "componentType": "CodeCell",
     "copiedOriginId": null,
     "diskcache": false,
     "headerColor": "transparent",
     "id": "b233f7af-78f7-4571-a00f-b511fcc16e2a",
     "isComponent": false,
     "name": "",
     "parents": []
    }
   },
   "outputs": [],
   "source": []
  },
  {
   "cell_type": "code",
   "execution_count": null,
   "id": "85089497-a442-44a0-b43b-214d1e3052f0",
   "metadata": {
    "canvas": {
     "comments": [],
     "componentType": "CodeCell",
     "copiedOriginId": null,
     "diskcache": false,
     "headerColor": "transparent",
     "id": "1f9cedc5-5170-409a-8362-081407652417",
     "isComponent": false,
     "name": "",
     "parents": []
    }
   },
   "outputs": [],
   "source": []
  },
  {
   "cell_type": "code",
   "execution_count": null,
   "id": "c3fef3ac-0314-4b29-bdcf-4cc7cbe212c1",
   "metadata": {
    "canvas": {
     "comments": [],
     "componentType": "CodeCell",
     "copiedOriginId": null,
     "diskcache": false,
     "headerColor": "transparent",
     "id": "8081bfbd-0695-4939-9825-f7f5cb3b2ac5",
     "isComponent": false,
     "name": "",
     "parents": []
    }
   },
   "outputs": [],
   "source": []
  },
  {
   "cell_type": "code",
   "execution_count": null,
   "id": "5572af58-73da-4507-8f2a-ae2700a6a07a",
   "metadata": {
    "canvas": {
     "comments": [],
     "componentType": "CodeCell",
     "copiedOriginId": null,
     "diskcache": false,
     "headerColor": "transparent",
     "id": "d22d485a-3c00-45c7-bd07-68d79b3a5774",
     "isComponent": false,
     "name": "",
     "parents": []
    }
   },
   "outputs": [],
   "source": []
  },
  {
   "cell_type": "code",
   "execution_count": null,
   "id": "fc37ede0-a4d1-4f5d-8963-ea6122449b81",
   "metadata": {
    "canvas": {
     "comments": [],
     "componentType": "CodeCell",
     "copiedOriginId": null,
     "diskcache": false,
     "headerColor": "transparent",
     "id": "c2e77c83-5b7c-4fe0-b603-f5d49cc3b0a6",
     "isComponent": false,
     "name": "",
     "parents": []
    }
   },
   "outputs": [],
   "source": []
  },
  {
   "cell_type": "code",
   "execution_count": null,
   "id": "1b312687-f20e-45c1-bb85-6f787f0d6c88",
   "metadata": {
    "canvas": {
     "comments": [],
     "componentType": "CodeCell",
     "copiedOriginId": null,
     "diskcache": false,
     "headerColor": "transparent",
     "id": "c3d3e40f-80d0-42cb-8956-b82b5bc4e63d",
     "isComponent": false,
     "name": "",
     "parents": []
    }
   },
   "outputs": [],
   "source": []
  },
  {
   "cell_type": "markdown",
   "id": "83199010-bed1-457a-9f19-749ae64658c7",
   "metadata": {
    "canvas": {
     "comments": [],
     "componentType": "CodeCell",
     "copiedOriginId": null,
     "diskcache": false,
     "headerColor": "transparent",
     "id": "da8cde51-fcd3-4011-aa8e-40e8c4f222e3",
     "isComponent": false,
     "name": "",
     "parents": []
    }
   },
   "source": [
    " *Calculate periodograms - STFT for different time windows. \n",
    "\n",
    "- For example : window of 24 hours with 5 or 15 minute close price data.*\n",
    "\n",
    "*If significat peaks occur in the Fourier power spectrum then the frequencies of these period might have a meaning or be insightful.*"
   ]
  },
  {
   "cell_type": "code",
   "execution_count": 42,
   "id": "ae56a2cf-38c3-4538-a34d-f7cd96caef8b",
   "metadata": {
    "canvas": {
     "comments": [],
     "componentType": "CodeCell",
     "copiedOriginId": null,
     "diskcache": false,
     "headerColor": "transparent",
     "id": "167c6118-c507-4031-bd70-9b62354e320f",
     "isComponent": false,
     "name": "",
     "parents": []
    }
   },
   "outputs": [
    {
     "data": {
      "text/plain": [
       "0    63112.94\n",
       "1    63118.62\n",
       "2    63071.18\n",
       "3    63110.69\n",
       "4    63283.99\n",
       "Name: close, dtype: float64"
      ]
     },
     "execution_count": 42,
     "metadata": {},
     "output_type": "execute_result"
    }
   ],
   "source": [
    "cols = ['open_time', 'open' , 'high' ,'low' , 'close' , 'volume' , 'close_time', 'quote_volume' , 'count' , 'taker_buy_volume' , 'taker_buy_quote_volume' , 'ignore' ]\n",
    "\n",
    "path = '/Users/patryknextdoor/Desktop/BTCUSDT-5m-2024-09-21.csv'\n",
    "\n",
    "df = pd.read_csv(path , names = cols , header=None)\n",
    "df.head()\n",
    "\n",
    "\n",
    "\n",
    "df['open_time'] = pd.to_datetime(df['open_time'] , unit='ms')  # Adjust the unit if needed (e.g., 'ms', 'us')\n",
    "\n",
    "# If you also want to convert 'close_time'\n",
    "df['close_time'] = pd.to_datetime(df['close_time'] , unit='ms')\n",
    "\n",
    "df.head()\n",
    "\n",
    "\n",
    "new = df['close'].copy()\n",
    "new.head()"
   ]
  },
  {
   "cell_type": "code",
   "execution_count": null,
   "id": "ca7f82e8-c325-4278-827d-fed3c888d390",
   "metadata": {
    "canvas": {
     "comments": [],
     "componentType": "CodeCell",
     "copiedOriginId": null,
     "diskcache": false,
     "headerColor": "transparent",
     "id": "c671a808-3110-40a4-a365-c45884416e3e",
     "isComponent": false,
     "name": "",
     "parents": []
    }
   },
   "outputs": [],
   "source": []
  }
 ],
 "metadata": {
  "canvas": {
   "colorPalette": [
    "inherit",
    "inherit",
    "inherit",
    "inherit",
    "inherit",
    "inherit",
    "inherit",
    "inherit",
    "inherit",
    "inherit"
   ],
   "parameters": [],
   "version": "1.0"
  },
  "kernelspec": {
   "display_name": "Python 3 (ipykernel)",
   "language": "python",
   "name": "python3"
  },
  "language_info": {
   "codemirror_mode": {
    "name": "ipython",
    "version": 3
   },
   "file_extension": ".py",
   "mimetype": "text/x-python",
   "name": "python",
   "nbconvert_exporter": "python",
   "pygments_lexer": "ipython3",
   "version": "3.9.18"
  }
 },
 "nbformat": 4,
 "nbformat_minor": 5
}
